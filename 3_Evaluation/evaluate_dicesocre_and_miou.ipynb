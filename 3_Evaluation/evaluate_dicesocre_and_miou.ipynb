{
  "cells": [
    {
      "cell_type": "markdown",
      "metadata": {
        "id": "LLoUbbWfnnTQ"
      },
      "source": [
        "# 0. 초기 세팅"
      ]
    },
    {
      "cell_type": "code",
      "execution_count": null,
      "metadata": {
        "id": "-LjVNJocZ2IR"
      },
      "outputs": [],
      "source": [
        "import os\n",
        "import cv2\n",
        "import pandas as pd\n",
        "import numpy as np\n",
        "\n",
        "import torch\n",
        "import torch.nn as nn\n",
        "from torch.utils.data import Dataset, DataLoader\n",
        "from torchvision import transforms\n",
        "\n",
        "from tqdm import tqdm\n",
        "import albumentations as A\n",
        "from albumentations.pytorch import ToTensorV2\n",
        "\n",
        "# Pytorch에서 gpu를 사용하는 방법.\n",
        "device = torch.device(\"cuda:4\" if torch.cuda.is_available() else \"cpu\")\n",
        "torch.cuda.set_device(device)\n",
        "# print('Current cuda device ', torch.cuda.current_device())"
      ]
    },
    {
      "cell_type": "code",
      "execution_count": null,
      "metadata": {
        "id": "yaXGO6iPApx4"
      },
      "outputs": [],
      "source": [
        "import PIL"
      ]
    },
    {
      "cell_type": "code",
      "execution_count": null,
      "metadata": {
        "id": "eSifeRI5NZIR"
      },
      "outputs": [],
      "source": [
        "from matplotlib import pyplot as plt\n",
        "import tifffile as tiff\n",
        "from PIL import Image\n",
        "import random"
      ]
    },
    {
      "cell_type": "code",
      "execution_count": null,
      "metadata": {
        "id": "V0Ucurv9N9xj",
        "scrolled": true
      },
      "outputs": [],
      "source": [
        "import tensorflow as tf\n",
        "from tensorflow import keras\n",
        "from keras.metrics import MeanIoU"
      ]
    },
    {
      "cell_type": "code",
      "execution_count": null,
      "metadata": {
        "id": "ZwsURYIwApx7"
      },
      "outputs": [],
      "source": [
        "from keras.utils import normalize\n",
        "from keras.metrics import MeanIoU"
      ]
    },
    {
      "cell_type": "code",
      "execution_count": null,
      "metadata": {
        "id": "AZaPwDl9Apx8"
      },
      "outputs": [],
      "source": [
        "from keras import backend as K"
      ]
    },
    {
      "cell_type": "code",
      "execution_count": null,
      "metadata": {
        "id": "qh38u3PPApx9"
      },
      "outputs": [],
      "source": [
        "import tensorflow as tf\n",
        "import segmentation_models as sm\n",
        "import segmentation_models_pytorch as smp\n",
        "from segmentation_models_pytorch.encoders import get_preprocessing_fn\n",
        "\n",
        "import glob\n",
        "import cv2\n",
        "import os\n",
        "import numpy as np\n",
        "from matplotlib import pyplot as plt\n",
        "import keras\n",
        "\n",
        "from keras.utils import normalize\n",
        "from keras.metrics import MeanIoU"
      ]
    },
    {
      "cell_type": "code",
      "execution_count": null,
      "metadata": {
        "id": "6kjqB-gkApx-"
      },
      "outputs": [],
      "source": [
        "os.environ[\"CUDA_DEVICE_ORDER\"] = \"PCI_BUS_ID\"\n",
        "os.environ[\"CUDA_VISIBLE_DEVICES\"] = \"4\""
      ]
    },
    {
      "cell_type": "code",
      "execution_count": null,
      "metadata": {
        "id": "vcspYaHHKoOq"
      },
      "outputs": [],
      "source": [
        "import random\n",
        "\n",
        "def seed_everything(seed):\n",
        "    random.seed(seed)\n",
        "    os.environ['PYTHONHASHSEED'] = str(seed)\n",
        "    np.random.seed(seed)\n",
        "\n",
        "seed_everything(42) # Seed 고정"
      ]
    },
    {
      "cell_type": "code",
      "execution_count": null,
      "metadata": {
        "id": "HJmBQYICApyB"
      },
      "outputs": [],
      "source": [
        "torch.cuda.memory_allocated()"
      ]
    },
    {
      "cell_type": "code",
      "execution_count": null,
      "metadata": {
        "id": "wSsvIZZvApyD"
      },
      "outputs": [],
      "source": [
        "print(torch.cuda.is_available())\n",
        "print(torch.cuda.device_count())\n",
        "print(torch.backends.cudnn.enabled)\n",
        "print(torch.backends.cudnn.version())"
      ]
    },
    {
      "cell_type": "markdown",
      "metadata": {
        "id": "zg5z12bIcg8o"
      },
      "source": [
        "# 성능 평가"
      ]
    },
    {
      "cell_type": "markdown",
      "metadata": {
        "id": "59AT3w7pcMuT"
      },
      "source": [
        "**성능 평가를 위해 valid set에 대해서 결과 확인**"
      ]
    },
    {
      "cell_type": "markdown",
      "metadata": {
        "id": "zJdtQIL8WnKq"
      },
      "source": [
        "### 1) true_mask vs pred_mask 이미지 비교"
      ]
    },
    {
      "cell_type": "code",
      "execution_count": null,
      "metadata": {
        "id": "0_rifhwkApyo"
      },
      "outputs": [],
      "source": [
        "import numpy as np\n",
        "import pandas as pd\n",
        "from typing import List, Union\n",
        "from joblib import Parallel, delayed"
      ]
    },
    {
      "cell_type": "code",
      "execution_count": null,
      "metadata": {
        "id": "Du7RN33sdKot"
      },
      "outputs": [],
      "source": [
        "import matplotlib.pyplot as plt\n",
        "\n",
        "def display(display_list):\n",
        "    plt.figure(figsize=(15, 15))\n",
        "\n",
        "    title = ['Input Image', 'True Mask', 'Predicted Mask']\n",
        "\n",
        "    for i in range(len(display_list)):\n",
        "        plt.subplot(1, len(display_list), i+1)\n",
        "        plt.title(title[i])\n",
        "        if i == 0:\n",
        "            img = cv2.imread(display_list[i])\n",
        "            img = cv2.cvtColor(img, cv2.COLOR_BGR2RGB)\n",
        "            img = img.astype(np.uint8).copy()\n",
        "        if i == 1:\n",
        "            img = cv2.imread(display_list[i], 0)\n",
        "        if i == 2:\n",
        "#             img = rle_decode(display_list[i], shape = (224, 224)) # shape 설정\n",
        "            img = display_list[i]\n",
        "\n",
        "        plt.imshow(img)\n",
        "        plt.axis('off')\n",
        "    plt.show()\n",
        "\n",
        "idx = 1000\n",
        "\n",
        "valid_img_path_idx = valid_img_dir + df_valid['img_path'][idx]\n",
        "valid_mask_path_idx = valid_mask_dir + df_valid['mask_path'][idx]\n",
        "valid_pred_mask_idx = tmp_pred4[idx]\n",
        "\n",
        "display_list = [valid_img_path_idx, valid_mask_path_idx, valid_pred_mask_idx]\n",
        "display(display_list)"
      ]
    },
    {
      "cell_type": "code",
      "execution_count": null,
      "metadata": {
        "id": "xx_OHok6Apyp"
      },
      "outputs": [],
      "source": [
        "weighted_preds_test = np.where(weighted_preds > 0.5, 1, 0)"
      ]
    },
    {
      "cell_type": "code",
      "execution_count": null,
      "metadata": {
        "id": "PiFHHlQBApyr"
      },
      "outputs": [],
      "source": [
        "idx = 5\n",
        "\n",
        "valid_img_path_idx = valid_img_dir + df_valid['img_path'][idx]\n",
        "valid_mask_path_idx = valid_mask_dir + df_valid['mask_path'][idx]"
      ]
    },
    {
      "cell_type": "code",
      "execution_count": null,
      "metadata": {
        "id": "usisRyn-Apys"
      },
      "outputs": [],
      "source": [
        "display_list = [valid_img_path_idx, valid_mask_path_idx, tmp_pred4[idx]]\n",
        "display(display_list)"
      ]
    },
    {
      "cell_type": "markdown",
      "metadata": {
        "id": "l4yZ5ZlOWoU5"
      },
      "source": [
        "### 2) Dice Score"
      ]
    },
    {
      "cell_type": "code",
      "execution_count": null,
      "metadata": {
        "id": "LJm_zsEVfG8b"
      },
      "outputs": [],
      "source": [
        "def dice_score(prediction: np.array, ground_truth: np.array, smooth=1e-7) -> float:\n",
        "    '''\n",
        "    Calculate Dice Score between two binary masks.\n",
        "    '''\n",
        "    intersection = np.sum(prediction * ground_truth)\n",
        "    return (2.0 * intersection + smooth) / (np.sum(prediction) + np.sum(ground_truth) + smooth)\n",
        "\n",
        "\n",
        "def calculate_dice_scores(pred_mask, gt_mask, img_shape=(224, 224)) -> List[float]:\n",
        "    '''\n",
        "    Calculate Dice scores for a dataset.\n",
        "    '''\n",
        "\n",
        "    def calculate_dice(pred_mask, gt_mask):\n",
        "        pred_mask = pred_mask\n",
        "        gt_mask = gt_mask\n",
        "\n",
        "\n",
        "        if np.sum(gt_mask) > 0 or np.sum(pred_mask) > 0:\n",
        "            return dice_score(pred_mask, gt_mask)\n",
        "        else:\n",
        "            return None  # No valid masks found, return None\n",
        "\n",
        "\n",
        "    dice_scores = Parallel(n_jobs=-1)(\n",
        "        delayed(calculate_dice)(pred, gt) for pred, gt in zip(pred_mask, gt_mask)\n",
        "    )\n",
        "\n",
        "\n",
        "    dice_scores = [score for score in dice_scores if score is not None]  # Exclude None values\n",
        "\n",
        "\n",
        "    return np.mean(dice_scores)"
      ]
    },
    {
      "cell_type": "code",
      "execution_count": null,
      "metadata": {
        "id": "8vUfwAUDt7J0"
      },
      "outputs": [],
      "source": [
        "calculate_dice_scores(tmp_pred4, valid_masks, img_shape=(224, 224))"
      ]
    },
    {
      "cell_type": "markdown",
      "metadata": {
        "id": "PydI60pCMV0F"
      },
      "source": [
        "### 3) Class 별 IOU"
      ]
    },
    {
      "cell_type": "code",
      "execution_count": null,
      "metadata": {
        "id": "JHGANFyJApyu"
      },
      "outputs": [],
      "source": [
        "valid_masks.shape"
      ]
    },
    {
      "cell_type": "code",
      "execution_count": null,
      "metadata": {
        "id": "-ZjvrtQVApyu"
      },
      "outputs": [],
      "source": [
        "import numpy as np\n",
        "\n",
        "def calculate_iou(outputs, labels, num_classes):\n",
        "    iou_per_class = np.zeros(num_classes)\n",
        "\n",
        "    for class_idx in range(num_classes):\n",
        "        # 클래스별 True Positive, False Positive, False Negative 계산\n",
        "        true_positive = np.sum(np.logical_and(outputs == class_idx, labels == class_idx))\n",
        "        false_positive = np.sum(np.logical_and(outputs == class_idx, labels != class_idx))\n",
        "        false_negative = np.sum(np.logical_and(outputs != class_idx, labels == class_idx))\n",
        "\n",
        "        # 클래스별 IoU 계산\n",
        "        iou = true_positive / (true_positive + false_positive + false_negative + 1e-10)\n",
        "        iou_per_class[class_idx] = iou\n",
        "\n",
        "    return iou_per_class\n",
        "\n",
        "# 예시 사용\n",
        "outputs = tmp_pred4\n",
        "labels = valid_masks\n",
        "num_classes = 2\n",
        "iou_per_class = calculate_iou(outputs, labels, num_classes)\n",
        "\n",
        "print(\"클래스별 IoU:\", iou_per_class)"
      ]
    },
    {
      "cell_type": "code",
      "execution_count": null,
      "metadata": {
        "id": "drVZ9YBWimB6"
      },
      "outputs": [],
      "source": [
        "totaliou = iou_per_class"
      ]
    },
    {
      "cell_type": "code",
      "execution_count": null,
      "metadata": {
        "id": "F8V3_cT_co5S"
      },
      "outputs": [],
      "source": [
        "def printClassScores(totaliou):\n",
        "    label = ['background', 'building']\n",
        "    print('classes          IoU      nIoU')\n",
        "    print('--------------------------------')\n",
        "    for i, iou in enumerate(totaliou):\n",
        "        labelName = label[i]\n",
        "        iouStr = f'{iou:>5.3f}'\n",
        "        niouStr = 'empty'\n",
        "        print('{:<14}: '.format(labelName) + iouStr + '    ' + niouStr)\n",
        "    print('--------------------------------')\n",
        "    print(f'Score Average : {(np.sum(totaliou) / 2):>5.3f}' + '    ' + niouStr)"
      ]
    },
    {
      "cell_type": "code",
      "execution_count": null,
      "metadata": {
        "id": "a8FbFF_djRwC"
      },
      "outputs": [],
      "source": [
        "printClassScores(totaliou)"
      ]
    }
  ],
  "metadata": {
    "accelerator": "GPU",
    "colab": {
      "gpuType": "T4",
      "machine_shape": "hm",
      "private_outputs": true,
      "provenance": []
    },
    "kernelspec": {
      "display_name": "Python 3",
      "language": "python",
      "name": "python3"
    },
    "language_info": {
      "codemirror_mode": {
        "name": "ipython",
        "version": 3
      },
      "file_extension": ".py",
      "mimetype": "text/x-python",
      "name": "python",
      "nbconvert_exporter": "python",
      "pygments_lexer": "ipython3",
      "version": "3.8.5"
    }
  },
  "nbformat": 4,
  "nbformat_minor": 0
}
