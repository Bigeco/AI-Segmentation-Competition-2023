{
 "cells": [
  {
   "cell_type": "markdown",
   "metadata": {
    "id": "d73d24e3-5c9e-4ade-9e6e-ca6f46a2d914"
   },
   "source": [
    "## Import"
   ]
  },
  {
   "cell_type": "code",
   "execution_count": 1,
   "metadata": {
    "id": "ad9b681e-370a-4cfa-a452-dd2d7f0cd77f"
   },
   "outputs": [],
   "source": [
    "import os\n",
    "import cv2\n",
    "\n",
    "import pandas as pd\n",
    "import numpy as np\n",
    "\n",
    "import torch\n",
    "import torch.nn as nn\n",
    "from torch.utils.data import Dataset, DataLoader\n",
    "from torchvision import transforms\n",
    "\n",
    "from tqdm import tqdm\n",
    "import albumentations as A\n",
    "from albumentations.pytorch import ToTensorV2\n",
    "\n",
    "device = torch.device('cuda' if torch.cuda.is_available() else 'cpu')"
   ]
  },
  {
   "cell_type": "code",
   "execution_count": 2,
   "metadata": {},
   "outputs": [
    {
     "name": "stdout",
     "output_type": "stream",
     "text": [
      "Current cuda device  0\n"
     ]
    }
   ],
   "source": [
    "\n",
    "device = torch.device(\"cuda:0\" if torch.cuda.is_available() else 'cpu')\n",
    "torch.cuda.set_device(device) # change allocation of current GPU\n",
    "print ('Current cuda device ', torch.cuda.current_device()) # check"
   ]
  },
  {
   "cell_type": "code",
   "execution_count": 3,
   "metadata": {
    "id": "Fk6n6bKvK0Jp"
   },
   "outputs": [],
   "source": [
    "import random"
   ]
  },
  {
   "cell_type": "code",
   "execution_count": 4,
   "metadata": {
    "id": "wAPY3-8dKurC"
   },
   "outputs": [],
   "source": [
    "def fix_all_seeds(seed):\n",
    "    np.random.seed(seed)\n",
    "    random.seed(seed)\n",
    "    os.environ['PYTHONHASHSEED'] = str(seed)\n",
    "    torch.manual_seed(seed)\n",
    "    torch.cuda.manual_seed(seed)\n",
    "    torch.cuda.manual_seed_all(seed)\n",
    "\n",
    "fix_all_seeds(37)"
   ]
  },
  {
   "cell_type": "code",
   "execution_count": 5,
   "metadata": {
    "colab": {
     "base_uri": "https://localhost:8080/"
    },
    "id": "jCoBpxK2MQxY",
    "outputId": "d6117b65-d451-4d61-b322-609fca1c4388"
   },
   "outputs": [],
   "source": [
    "#from google.colab import drive\n",
    "#drive.mount('/content/gdrive', force_remount=True)\n",
    "\n",
    "#os.chdir('/content/gdrive/MyDrive/sw_ai')"
   ]
  },
  {
   "cell_type": "markdown",
   "metadata": {
    "id": "20ff3de5-0d0e-497b-ac75-d5179a3f65d3"
   },
   "source": [
    "## Utils"
   ]
  },
  {
   "cell_type": "code",
   "execution_count": 6,
   "metadata": {
    "id": "838e1d83-8670-407b-82f6-bf9652f58639"
   },
   "outputs": [],
   "source": [
    "# RLE 디코딩 함수\n",
    "def rle_decode(mask_rle, shape):\n",
    "    s = mask_rle.split()\n",
    "    starts, lengths = [np.asarray(x, dtype=int) for x in (s[0:][::2], s[1:][::2])]\n",
    "    starts -= 1\n",
    "    ends = starts + lengths\n",
    "    img = np.zeros(shape[0]*shape[1], dtype=np.uint8)\n",
    "    for lo, hi in zip(starts, ends):\n",
    "        img[lo:hi] = 1\n",
    "    return img.reshape(shape)\n",
    "\n",
    "# RLE 인코딩 함수\n",
    "def rle_encode(mask):\n",
    "    pixels = mask.flatten()\n",
    "    pixels = np.concatenate([[0], pixels, [0]])\n",
    "    runs = np.where(pixels[1:] != pixels[:-1])[0] + 1\n",
    "    runs[1::2] -= runs[::2]\n",
    "    return ' '.join(str(x) for x in runs)"
   ]
  },
  {
   "cell_type": "markdown",
   "metadata": {
    "id": "be76a29e-e9c2-411a-a569-04166f074184"
   },
   "source": [
    "## Custom Dataset"
   ]
  },
  {
   "cell_type": "code",
   "execution_count": 7,
   "metadata": {
    "id": "3O2u4XwxsQNX"
   },
   "outputs": [],
   "source": [
    "train_img_dir = './pro_data/data_for_training_and_testing/train/images/'\n",
    "train_mask_dir = './pro_data/data_for_training_and_testing/train/masks/'\n",
    "\n",
    "valid_img_dir = './pro_data/data_for_training_and_testing/val/images/'\n",
    "valid_mask_dir = './pro_data/data_for_training_and_testing/val/masks/'"
   ]
  },
  {
   "cell_type": "code",
   "execution_count": 8,
   "metadata": {},
   "outputs": [],
   "source": [
    "data_train_img = sorted(os.listdir(train_img_dir))\n",
    "data_train_mask = sorted(os.listdir(train_mask_dir))\n",
    "\n",
    "data_val_img = sorted(os.listdir(valid_img_dir))\n",
    "data_val_mask = sorted(os.listdir(valid_mask_dir))"
   ]
  },
  {
   "cell_type": "code",
   "execution_count": 9,
   "metadata": {},
   "outputs": [],
   "source": [
    "df_train = pd.DataFrame({'img_path': data_train_img, 'mask_path': data_train_mask})\n",
    "df_valid = pd.DataFrame({'img_path': data_val_img, 'mask_path': data_val_mask})"
   ]
  },
  {
   "cell_type": "code",
   "execution_count": 10,
   "metadata": {},
   "outputs": [
    {
     "ename": "NameError",
     "evalue": "name 'validset' is not defined",
     "output_type": "error",
     "traceback": [
      "\u001b[0;31m---------------------------------------------------------------------------\u001b[0m",
      "\u001b[0;31mNameError\u001b[0m                                 Traceback (most recent call last)",
      "\u001b[0;32m<ipython-input-10-fee59c21a80e>\u001b[0m in \u001b[0;36m<module>\u001b[0;34m\u001b[0m\n\u001b[0;32m----> 1\u001b[0;31m \u001b[0mvalid_dataloader\u001b[0m \u001b[0;34m=\u001b[0m \u001b[0mDataLoader\u001b[0m\u001b[0;34m(\u001b[0m\u001b[0mvalidset\u001b[0m\u001b[0;34m,\u001b[0m \u001b[0mbatch_size\u001b[0m\u001b[0;34m=\u001b[0m\u001b[0;36m16\u001b[0m\u001b[0;34m,\u001b[0m \u001b[0mshuffle\u001b[0m\u001b[0;34m=\u001b[0m\u001b[0;32mFalse\u001b[0m\u001b[0;34m,\u001b[0m \u001b[0mnum_workers\u001b[0m\u001b[0;34m=\u001b[0m\u001b[0;36m48\u001b[0m\u001b[0;34m)\u001b[0m\u001b[0;34m\u001b[0m\u001b[0;34m\u001b[0m\u001b[0m\n\u001b[0m",
      "\u001b[0;31mNameError\u001b[0m: name 'validset' is not defined"
     ]
    }
   ],
   "source": [
    "valid_dataloader = DataLoader(validset, batch_size=16, shuffle=False, num_workers=48)"
   ]
  },
  {
   "cell_type": "code",
   "execution_count": 11,
   "metadata": {
    "id": "L_ib03g0sSKH"
   },
   "outputs": [],
   "source": [
    "class SatelliteDataset1(Dataset):\n",
    "    def __init__(self, dataset, lst_path, transform=None, infer=False):\n",
    "        self.data = dataset\n",
    "        self.transform = transform\n",
    "        self.infer = infer\n",
    "        self.lst_path = lst_path\n",
    "\n",
    "    def __len__(self):\n",
    "        return len(self.data)\n",
    "\n",
    "    def __getitem__(self, idx):\n",
    "        img_path = self.lst_path[0] + self.data.iloc[idx, 0]\n",
    "        image = cv2.imread(img_path)\n",
    "        image = cv2.cvtColor(image, cv2.COLOR_BGR2RGB)\n",
    "\n",
    "        if self.infer:\n",
    "            if self.transform:\n",
    "                image = self.transform(image=image)['image']\n",
    "            return image\n",
    "\n",
    "        mask_path = self.lst_path[1] + self.data.iloc[idx, 1]\n",
    "        mask = cv2.imread(mask_path, 0)\n",
    "\n",
    "        if self.transform:\n",
    "            augmented = self.transform(image=image, mask=mask)\n",
    "            image = augmented['image']\n",
    "            mask = augmented['mask']\n",
    "\n",
    "        return image, mask"
   ]
  },
  {
   "cell_type": "code",
   "execution_count": 12,
   "metadata": {
    "id": "jJwWN9CqsZlN"
   },
   "outputs": [],
   "source": [
    "transform4 = A.Compose([\n",
    "    A.Resize(224, 224),  # 적용 안해도됨. 이미 주어진 이미지가 224x224\n",
    "    A.Normalize(),        # 기존\n",
    "    ToTensorV2()          # 기존\n",
    "])\n",
    "\n",
    "trainset = SatelliteDataset1(dataset = df_train, transform=transform4, lst_path = [train_img_dir, train_mask_dir])\n",
    "validset = SatelliteDataset1(dataset = df_valid, transform=transform4, lst_path = [valid_img_dir, valid_mask_dir])\n"
   ]
  },
  {
   "cell_type": "code",
   "execution_count": 13,
   "metadata": {},
   "outputs": [
    {
     "data": {
      "text/plain": [
       "tensor([[0, 0, 0,  ..., 0, 0, 0],\n",
       "        [0, 0, 0,  ..., 0, 0, 0],\n",
       "        [0, 0, 0,  ..., 0, 0, 0],\n",
       "        ...,\n",
       "        [0, 0, 0,  ..., 0, 0, 0],\n",
       "        [0, 0, 0,  ..., 0, 0, 0],\n",
       "        [0, 0, 0,  ..., 0, 0, 0]], dtype=torch.uint8)"
      ]
     },
     "execution_count": 13,
     "metadata": {},
     "output_type": "execute_result"
    }
   ],
   "source": [
    "trainset[0][1]"
   ]
  },
  {
   "cell_type": "code",
   "execution_count": 14,
   "metadata": {
    "colab": {
     "base_uri": "https://localhost:8080/"
    },
    "id": "GH8Dp86Ash9l",
    "outputId": "4cd44206-be4a-47d5-eb80-5d287ac1f011"
   },
   "outputs": [
    {
     "ename": "NameError",
     "evalue": "name 'plt' is not defined",
     "output_type": "error",
     "traceback": [
      "\u001b[0;31m---------------------------------------------------------------------------\u001b[0m",
      "\u001b[0;31mNameError\u001b[0m                                 Traceback (most recent call last)",
      "\u001b[0;32m<ipython-input-14-e5a444114654>\u001b[0m in \u001b[0;36m<module>\u001b[0;34m\u001b[0m\n\u001b[0;32m----> 1\u001b[0;31m \u001b[0mplt\u001b[0m\u001b[0;34m.\u001b[0m\u001b[0mimshow\u001b[0m\u001b[0;34m(\u001b[0m\u001b[0mtrainset\u001b[0m\u001b[0;34m[\u001b[0m\u001b[0;36m0\u001b[0m\u001b[0;34m]\u001b[0m\u001b[0;34m[\u001b[0m\u001b[0;36m0\u001b[0m\u001b[0;34m]\u001b[0m\u001b[0;34m.\u001b[0m\u001b[0mcpu\u001b[0m\u001b[0;34m(\u001b[0m\u001b[0;34m)\u001b[0m\u001b[0;34m.\u001b[0m\u001b[0mnumpy\u001b[0m\u001b[0;34m(\u001b[0m\u001b[0;34m)\u001b[0m\u001b[0;34m.\u001b[0m\u001b[0mtranspose\u001b[0m\u001b[0;34m(\u001b[0m\u001b[0;34m(\u001b[0m\u001b[0;36m1\u001b[0m\u001b[0;34m,\u001b[0m \u001b[0;36m2\u001b[0m\u001b[0;34m,\u001b[0m \u001b[0;36m0\u001b[0m\u001b[0;34m)\u001b[0m\u001b[0;34m)\u001b[0m\u001b[0;34m)\u001b[0m\u001b[0;34m\u001b[0m\u001b[0;34m\u001b[0m\u001b[0m\n\u001b[0m\u001b[1;32m      2\u001b[0m \u001b[0mplt\u001b[0m\u001b[0;34m.\u001b[0m\u001b[0mimshow\u001b[0m\u001b[0;34m(\u001b[0m\u001b[0mtrainset\u001b[0m\u001b[0;34m[\u001b[0m\u001b[0;36m0\u001b[0m\u001b[0;34m]\u001b[0m\u001b[0;34m[\u001b[0m\u001b[0;36m1\u001b[0m\u001b[0;34m]\u001b[0m\u001b[0;34m,\u001b[0m \u001b[0malpha\u001b[0m\u001b[0;34m=\u001b[0m\u001b[0;36m0.4\u001b[0m\u001b[0;34m)\u001b[0m\u001b[0;34m\u001b[0m\u001b[0;34m\u001b[0m\u001b[0m\n\u001b[1;32m      3\u001b[0m \u001b[0mplt\u001b[0m\u001b[0;34m.\u001b[0m\u001b[0mshow\u001b[0m\u001b[0;34m(\u001b[0m\u001b[0;34m)\u001b[0m\u001b[0;34m\u001b[0m\u001b[0;34m\u001b[0m\u001b[0m\n",
      "\u001b[0;31mNameError\u001b[0m: name 'plt' is not defined"
     ]
    }
   ],
   "source": [
    "\n",
    "plt.imshow(trainset[0][0].cpu().numpy().transpose((1, 2, 0)))\n",
    "plt.imshow(trainset[0][1], alpha=0.4)\n",
    "plt.show()"
   ]
  },
  {
   "cell_type": "code",
   "execution_count": 15,
   "metadata": {
    "id": "a8496767-2f64-4285-bec4-c6f53a1fd9d2"
   },
   "outputs": [],
   "source": [
    "class SatelliteDataset(Dataset):\n",
    "    def __init__(self, csv_file, chk=0, transform=None, infer=False):\n",
    "        self.data = pd.read_csv(csv_file)\n",
    "        for i in range(len(self.data.iloc[:,1] )):\n",
    "          self.data.iloc[:,1][i]=self.data.iloc[:,1][i].replace(\"./\", \"/\")\n",
    "        self.data.iloc[:,1] = \"./data/\" + self.data.iloc[:,1]\n",
    "        self.transform = transform\n",
    "        self.infer = infer\n",
    "        self.chk = chk\n",
    "\n",
    "    def __len__(self):\n",
    "        return len(self.data)\n",
    "\n",
    "    def __getitem__(self, idx):\n",
    "        img_path = self.data.iloc[idx, 1]\n",
    "        image = cv2.imread(img_path)\n",
    "        image = cv2.cvtColor(image, cv2.COLOR_BGR2RGB)\n",
    "        #print(image)\n",
    "        if self.infer:\n",
    "            if self.transform:\n",
    "                image = self.transform(image=image)['image']\n",
    "                #image = torch.tensor(image, dtype=torch.float32) / 255.0\n",
    "            return image\n",
    "\n",
    "        mask_rle = self.data.iloc[idx, 2]\n",
    "        mask = rle_decode(mask_rle, (image.shape[0], image.shape[1]))\n",
    "\n",
    "        if self.transform:\n",
    "            augmented = self.transform(image=image, mask=mask)\n",
    "            image = augmented['image']\n",
    "            mask = augmented['mask']\n",
    "            #image = torch.tensor(image, dtype=torch.float32) / 255.0\n",
    "        if(self.chk==0):\n",
    "          return image, mask\n",
    "        elif (self.chk==1):\n",
    "          image = image[:,:224,:224]\n",
    "          mask = mask[:224, :224]\n",
    "          return image, mask\n",
    "        elif (self.chk==2):\n",
    "          image = image[:,:224,224:448]\n",
    "          mask = mask[:224, 224:448]\n",
    "          return image, mask\n",
    "        elif (self.chk==3):\n",
    "          image = image[:,:224,448:672]\n",
    "          mask = mask[:224, 448:672]\n",
    "          return image, mask\n",
    "        elif (self.chk==4):\n",
    "          image = image[:,:224,672:896]\n",
    "          mask = mask[:224, 672:896]\n",
    "          return image, mask\n",
    "        elif (self.chk==5):\n",
    "          image = image[:,:224,896:]\n",
    "          mask = mask[:224, 896:]\n",
    "          return image, mask\n",
    "        elif (self.chk==6):\n",
    "          image = image[:,224:448,:224]\n",
    "          mask = mask[224:448, :224]\n",
    "          return image, mask\n",
    "        elif (self.chk==7):\n",
    "          image = image[:,224:448,224:448]\n",
    "          mask = mask[224:448, 224:448]\n",
    "          return image, mask\n",
    "        elif (self.chk==8):\n",
    "          image = image[:,224:448,448:672]\n",
    "          mask = mask[224:448, 448:672]\n",
    "          return image, mask\n",
    "        elif (self.chk==9):\n",
    "          image = image[:,224:448,672:896]\n",
    "          mask = mask[224:448, 672:896]\n",
    "          return image, mask\n",
    "        elif (self.chk==10):\n",
    "          image = image[:,224:448,896:]\n",
    "          mask = mask[224:448, 896:]\n",
    "          return image, mask\n",
    "        elif (self.chk==11):\n",
    "          image = image[:,448:672,:224]\n",
    "          mask = mask[448:672, :224]\n",
    "          return image, mask\n",
    "        elif (self.chk==12):\n",
    "          image = image[:,448:672,224:448]\n",
    "          mask = mask[448:672, 224:448]\n",
    "          return image, mask\n",
    "        elif (self.chk==13):\n",
    "          image = image[:,448:672,448:672]\n",
    "          mask = mask[448:672, 448:672]\n",
    "          return image, mask\n",
    "        elif (self.chk==14):\n",
    "          image = image[:,448:672,672:896]\n",
    "          mask = mask[448:672, 672:896]\n",
    "          return image, mask\n",
    "        elif (self.chk==15):\n",
    "          image = image[:,448:672,896:]\n",
    "          mask = mask[448:672, 896:]\n",
    "          return image, mask\n",
    "        elif (self.chk==16):\n",
    "          image = image[:, 672:896,:224]\n",
    "          mask = mask[672:896, :224]\n",
    "          return image, mask\n",
    "        elif (self.chk==17):\n",
    "          image = image[:, 672:896,224:448]\n",
    "          mask = mask[672:896, 224:448]\n",
    "          return image, mask\n",
    "        elif (self.chk==18):\n",
    "          image = image[:, 672:896,448:672]\n",
    "          mask = mask[672:896, 448:672]\n",
    "          return image, mask\n",
    "        elif (self.chk==19):\n",
    "          image = image[:, 672:896, 672:896]\n",
    "          mask = mask[672:896, 672:896]\n",
    "          return image, mask\n",
    "        elif (self.chk==20):\n",
    "          image = image[:, 672:896,896:]\n",
    "          mask = mask[672:896, 896:]\n",
    "          return image, mask\n",
    "        elif (self.chk==21):\n",
    "          image = image[:, 896:,:224]\n",
    "          mask = mask[896:, :224]\n",
    "          return image, mask\n",
    "        elif (self.chk==22):\n",
    "          image = image[:, 896:,224:448]\n",
    "          mask = mask[896:, 224:448]\n",
    "          return image, mask\n",
    "        elif (self.chk==23):\n",
    "          image = image[:, 896:,448:672]\n",
    "          mask = mask[896:,448:672]\n",
    "          return image, mask\n",
    "        elif (self.chk==24):\n",
    "          image = image[:, 896:,672:896]\n",
    "          mask = mask[896:, 672:896]\n",
    "          return image, mask\n",
    "        else:\n",
    "          image = image[:, 896:,896:]\n",
    "          mask = mask[896:, 896:]\n",
    "          return image, mask\n",
    "\n"
   ]
  },
  {
   "cell_type": "code",
   "execution_count": 16,
   "metadata": {
    "id": "h86bti98XuFh"
   },
   "outputs": [],
   "source": [
    "import matplotlib.pyplot as plt"
   ]
  },
  {
   "cell_type": "markdown",
   "metadata": {
    "id": "dc955893-22fd-4320-88be-7aa0d790cbd9"
   },
   "source": [
    "## Data Loader"
   ]
  },
  {
   "cell_type": "code",
   "execution_count": 17,
   "metadata": {
    "id": "1b708503-2ff9-4584-9d73-40990b3572f8"
   },
   "outputs": [],
   "source": [
    "transform = A.Compose(\n",
    "    [\n",
    "        A.Resize(1120,1120),\n",
    "        A.Normalize(),\n",
    "        ToTensorV2()\n",
    "    ]\n",
    ")\n",
    "\n",
    "transform1 = A.Compose(\n",
    "    [\n",
    "        A.Resize(1120, 1120),\n",
    "        A.Normalize(),\n",
    "        ToTensorV2()\n",
    "    ]\n",
    ")\n",
    "dataset1 = SatelliteDataset(csv_file='./train.csv', chk=1, transform=transform)\n",
    "dataset2 = SatelliteDataset(csv_file='./train.csv', chk=2, transform=transform)\n",
    "dataset3 = SatelliteDataset(csv_file='./train.csv', chk=3, transform=transform)\n",
    "dataset4 = SatelliteDataset(csv_file='./train.csv', chk=4, transform=transform)\n",
    "dataset5 = SatelliteDataset(csv_file='./train.csv', chk=5, transform=transform)\n",
    "dataset6 = SatelliteDataset(csv_file='./train.csv', chk=6, transform=transform)\n",
    "dataset7 = SatelliteDataset(csv_file='./train.csv', chk=7, transform=transform)\n",
    "dataset8 = SatelliteDataset(csv_file='./train.csv', chk=8, transform=transform)\n",
    "dataset9 = SatelliteDataset(csv_file='./train.csv', chk=9, transform=transform)\n",
    "dataset10 = SatelliteDataset(csv_file='./train.csv', chk=10, transform=transform)\n",
    "dataset11 = SatelliteDataset(csv_file='./train.csv', chk=11, transform=transform)\n",
    "dataset12 = SatelliteDataset(csv_file='./train.csv', chk=12, transform=transform)\n",
    "dataset13 = SatelliteDataset(csv_file='./train.csv', chk=13, transform=transform)\n",
    "dataset14 = SatelliteDataset(csv_file='./train.csv', chk=14, transform=transform)\n",
    "dataset15 = SatelliteDataset(csv_file='./train.csv', chk=15, transform=transform)\n",
    "dataset16 = SatelliteDataset(csv_file='./train.csv', chk=16, transform=transform)\n",
    "dataset25 = SatelliteDataset(csv_file='./train.csv', chk=25, transform=transform)\n",
    "dataset17 = SatelliteDataset(csv_file='./train.csv', chk=17, transform=transform)\n",
    "dataset18 = SatelliteDataset(csv_file='./train.csv', chk=18, transform=transform)\n",
    "dataset19 = SatelliteDataset(csv_file='./train.csv', chk=19, transform=transform)\n",
    "dataset20 = SatelliteDataset(csv_file='./train.csv', chk=20, transform=transform)\n",
    "dataset21 = SatelliteDataset(csv_file='./train.csv', chk=21, transform=transform)\n",
    "dataset22 = SatelliteDataset(csv_file='./train.csv', chk=22, transform=transform)\n",
    "dataset23 = SatelliteDataset(csv_file='./train.csv', chk=23, transform=transform)\n",
    "dataset24 = SatelliteDataset(csv_file='./train.csv', chk=24, transform=transform)\n",
    "dataset = SatelliteDataset(csv_file='./train.csv', chk=0,transform=transform1)\n",
    "#dataloader = DataLoader(dataset1+dataset2+dataset3+dataset4+dataset5+dataset6+dataset7+dataset8+dataset9+dataset10+dataset11+dataset12+dataset13+dataset14+dataset15+dataset16, batch_size=128, shuffle=True, num_workers=8)"
   ]
  },
  {
   "cell_type": "code",
   "execution_count": 18,
   "metadata": {
    "id": "R9f3ZGhPUw49"
   },
   "outputs": [],
   "source": [
    "dataloader = DataLoader(dataset1+dataset2+dataset3+dataset4+dataset5+dataset6+dataset7+dataset8+dataset9+dataset10+dataset11+dataset12+dataset13+dataset14+dataset15+dataset16+dataset17+dataset18+dataset19+dataset20+dataset21+dataset22+dataset23+dataset24+dataset25+trainset, batch_size=16, shuffle=True, num_workers=48)"
   ]
  },
  {
   "cell_type": "code",
   "execution_count": 19,
   "metadata": {
    "id": "WcMaZQOahCgs"
   },
   "outputs": [],
   "source": [
    "dataset1 = SatelliteDataset(csv_file='./train.csv', chk=1, transform=transform)"
   ]
  },
  {
   "cell_type": "code",
   "execution_count": 20,
   "metadata": {},
   "outputs": [
    {
     "data": {
      "text/plain": [
       "tensor([[[-0.7308, -0.9020, -0.8849,  ..., -0.8335, -1.1075, -1.2274],\n",
       "         [-0.3027, -0.4226, -0.5596,  ..., -0.9877, -1.1418, -1.2788],\n",
       "         [-0.2342, -0.1828, -0.2684,  ..., -1.1075, -0.9877, -0.9020],\n",
       "         ...,\n",
       "         [-0.3883, -0.4568, -0.5082,  ..., -0.6794, -0.8164, -0.7479],\n",
       "         [-0.5424, -0.5767, -0.6109,  ..., -0.5596, -0.7479, -0.8507],\n",
       "         [-0.6109, -0.6281, -0.6281,  ..., -0.3712, -0.6452, -0.8678]],\n",
       "\n",
       "        [[-0.5126, -0.6877, -0.6877,  ..., -0.6877, -0.9678, -1.0903],\n",
       "         [-0.2500, -0.3725, -0.4951,  ..., -0.8452, -1.0028, -1.1429],\n",
       "         [-0.2150, -0.1625, -0.2325,  ..., -0.9503, -0.8452, -0.7577],\n",
       "         ...,\n",
       "         [-0.3901, -0.4601, -0.5126,  ..., -0.6001, -0.6877, -0.5826],\n",
       "         [-0.5651, -0.6001, -0.6352,  ..., -0.4951, -0.6352, -0.7052],\n",
       "         [-0.6702, -0.6702, -0.6527,  ..., -0.3375, -0.5651, -0.7577]],\n",
       "\n",
       "        [[-0.7413, -0.8633, -0.8284,  ..., -0.5321, -0.8284, -0.9504],\n",
       "         [-0.4275, -0.5321, -0.6541,  ..., -0.6890, -0.8633, -1.0027],\n",
       "         [-0.3753, -0.3230, -0.3578,  ..., -0.7936, -0.7064, -0.6193],\n",
       "         ...,\n",
       "         [-0.4450, -0.5147, -0.5670,  ..., -0.7238, -0.8284, -0.7238],\n",
       "         [-0.5844, -0.6193, -0.6541,  ..., -0.6193, -0.7587, -0.8458],\n",
       "         [-0.6541, -0.6367, -0.6367,  ..., -0.4450, -0.6715, -0.8807]]])"
      ]
     },
     "execution_count": 20,
     "metadata": {},
     "output_type": "execute_result"
    }
   ],
   "source": [
    "dataset1[0][0]"
   ]
  },
  {
   "cell_type": "code",
   "execution_count": 21,
   "metadata": {
    "colab": {
     "base_uri": "https://localhost:8080/",
     "height": 1000
    },
    "id": "MQGtGIwwTrHV",
    "outputId": "a38329c5-ec03-4615-c29f-f85b17c03b69"
   },
   "outputs": [
    {
     "name": "stderr",
     "output_type": "stream",
     "text": [
      "Clipping input data to the valid range for imshow with RGB data ([0..1] for floats or [0..255] for integers).\n",
      "Clipping input data to the valid range for imshow with RGB data ([0..1] for floats or [0..255] for integers).\n",
      "Clipping input data to the valid range for imshow with RGB data ([0..1] for floats or [0..255] for integers).\n",
      "Clipping input data to the valid range for imshow with RGB data ([0..1] for floats or [0..255] for integers).\n",
      "Clipping input data to the valid range for imshow with RGB data ([0..1] for floats or [0..255] for integers).\n",
      "Clipping input data to the valid range for imshow with RGB data ([0..1] for floats or [0..255] for integers).\n",
      "Clipping input data to the valid range for imshow with RGB data ([0..1] for floats or [0..255] for integers).\n",
      "Clipping input data to the valid range for imshow with RGB data ([0..1] for floats or [0..255] for integers).\n",
      "Clipping input data to the valid range for imshow with RGB data ([0..1] for floats or [0..255] for integers).\n",
      "Clipping input data to the valid range for imshow with RGB data ([0..1] for floats or [0..255] for integers).\n",
      "Clipping input data to the valid range for imshow with RGB data ([0..1] for floats or [0..255] for integers).\n",
      "Clipping input data to the valid range for imshow with RGB data ([0..1] for floats or [0..255] for integers).\n",
      "Clipping input data to the valid range for imshow with RGB data ([0..1] for floats or [0..255] for integers).\n",
      "Clipping input data to the valid range for imshow with RGB data ([0..1] for floats or [0..255] for integers).\n",
      "Clipping input data to the valid range for imshow with RGB data ([0..1] for floats or [0..255] for integers).\n",
      "Clipping input data to the valid range for imshow with RGB data ([0..1] for floats or [0..255] for integers).\n",
      "Clipping input data to the valid range for imshow with RGB data ([0..1] for floats or [0..255] for integers).\n",
      "Clipping input data to the valid range for imshow with RGB data ([0..1] for floats or [0..255] for integers).\n",
      "Clipping input data to the valid range for imshow with RGB data ([0..1] for floats or [0..255] for integers).\n",
      "Clipping input data to the valid range for imshow with RGB data ([0..1] for floats or [0..255] for integers).\n",
      "Clipping input data to the valid range for imshow with RGB data ([0..1] for floats or [0..255] for integers).\n",
      "Clipping input data to the valid range for imshow with RGB data ([0..1] for floats or [0..255] for integers).\n",
      "Clipping input data to the valid range for imshow with RGB data ([0..1] for floats or [0..255] for integers).\n",
      "Clipping input data to the valid range for imshow with RGB data ([0..1] for floats or [0..255] for integers).\n",
      "Clipping input data to the valid range for imshow with RGB data ([0..1] for floats or [0..255] for integers).\n"
     ]
    },
    {
     "data": {
      "image/png": "[encoded data removed]",
      "text/plain": [
       "<Figure size 432x288 with 25 Axes>"
      ]
     },
     "metadata": {
      "needs_background": "light"
     },
     "output_type": "display_data"
    },
    {
     "data": {
      "image/png": "[encoded data removed]",
      "text/plain": [
       "<Figure size 432x288 with 1 Axes>"
      ]
     },
     "metadata": {
      "needs_background": "light"
     },
     "output_type": "display_data"
    }
   ],
   "source": [
    "plt.subplot(5, 5, 1)\n",
    "plt.imshow(dataset1[0][0].cpu().numpy().transpose((1, 2, 0)))\n",
    "plt.subplot(5, 5, 2)\n",
    "plt.imshow(dataset2[0][0].cpu().numpy().transpose((1, 2, 0)))\n",
    "plt.subplot(5, 5, 3)\n",
    "plt.imshow(dataset3[0][0].cpu().numpy().transpose((1, 2, 0)))\n",
    "plt.subplot(5, 5, 4)\n",
    "plt.imshow(dataset4[0][0].cpu().numpy().transpose((1, 2, 0)))\n",
    "plt.subplot(5, 5, 5)\n",
    "plt.imshow(dataset5[0][0].cpu().numpy().transpose((1, 2, 0)))\n",
    "plt.subplot(5, 5, 6)\n",
    "plt.imshow(dataset6[0][0].cpu().numpy().transpose((1, 2, 0)))\n",
    "plt.subplot(5, 5, 7)\n",
    "plt.imshow(dataset7[0][0].cpu().numpy().transpose((1, 2, 0)))\n",
    "plt.subplot(5, 5, 8)\n",
    "plt.imshow(dataset8[0][0].cpu().numpy().transpose((1, 2, 0)))\n",
    "plt.subplot(5, 5, 9)\n",
    "plt.imshow(dataset9[0][0].cpu().numpy().transpose((1, 2, 0)))\n",
    "plt.subplot(5, 5, 10)\n",
    "plt.imshow(dataset10[0][0].cpu().numpy().transpose((1, 2, 0)))\n",
    "plt.subplot(5, 5, 11)\n",
    "plt.imshow(dataset11[0][0].cpu().numpy().transpose((1, 2, 0)))\n",
    "plt.subplot(5, 5, 12)\n",
    "plt.imshow(dataset12[0][0].cpu().numpy().transpose((1, 2, 0)))\n",
    "plt.subplot(5, 5, 13)\n",
    "plt.imshow(dataset13[0][0].cpu().numpy().transpose((1, 2, 0)))\n",
    "plt.subplot(5, 5, 14)\n",
    "plt.imshow(dataset14[0][0].cpu().numpy().transpose((1, 2, 0)))\n",
    "plt.subplot(5, 5, 15)\n",
    "plt.imshow(dataset15[0][0].cpu().numpy().transpose((1, 2, 0)))\n",
    "plt.subplot(5, 5, 16)\n",
    "plt.imshow(dataset16[0][0].cpu().numpy().transpose((1, 2, 0)))\n",
    "plt.subplot(5, 5, 17)\n",
    "plt.imshow(dataset17[0][0].cpu().numpy().transpose((1, 2, 0)))\n",
    "plt.subplot(5, 5, 18)\n",
    "plt.imshow(dataset18[0][0].cpu().numpy().transpose((1, 2, 0)))\n",
    "plt.subplot(5, 5, 19)\n",
    "plt.imshow(dataset19[0][0].cpu().numpy().transpose((1, 2, 0)))\n",
    "plt.subplot(5, 5, 20)\n",
    "plt.imshow(dataset20[0][0].cpu().numpy().transpose((1, 2, 0)))\n",
    "plt.subplot(5, 5, 21)\n",
    "plt.imshow(dataset21[0][0].cpu().numpy().transpose((1, 2, 0)))\n",
    "plt.subplot(5, 5, 22)\n",
    "plt.imshow(dataset22[0][0].cpu().numpy().transpose((1, 2, 0)))\n",
    "plt.subplot(5, 5, 23)\n",
    "plt.imshow(dataset23[0][0].cpu().numpy().transpose((1, 2, 0)))\n",
    "plt.subplot(5, 5, 24)\n",
    "plt.imshow(dataset24[0][0].cpu().numpy().transpose((1, 2, 0)))\n",
    "plt.subplot(5, 5, 25)\n",
    "plt.imshow(dataset25[0][0].cpu().numpy().transpose((1, 2, 0)))\n",
    "plt.show()\n",
    "plt.imshow(dataset[0][1], alpha=0.4)\n",
    "plt.show()"
   ]
  },
  {
   "cell_type": "code",
   "execution_count": null,
   "metadata": {
    "colab": {
     "base_uri": "https://localhost:8080/"
    },
    "id": "8MlJTlBIitRf",
    "outputId": "97d142f8-3f76-43a4-fc0b-4cdde0896a7d"
   },
   "outputs": [
    {
     "name": "stderr",
     "output_type": "stream",
     "text": [
      "/usr/local/lib/python3.10/dist-packages/torch/utils/data/dataloader.py:560: UserWarning: This DataLoader will create 8 worker processes in total. Our suggested max number of worker in current system is 4, which is smaller than what this DataLoader is going to create. Please be aware that excessive worker creation might get DataLoader running slow or even freeze, lower the worker number to avoid potential slowness/freeze if necessary.\n",
      "  warnings.warn(_create_warning_msg(\n"
     ]
    }
   ],
   "source": [
    "dataset = dataset1 + dataset2+dataset3+dataset4+dataset5\n",
    "dataloader = DataLoader(dataset, batch_size=64, shuffle=True, num_workers=8)"
   ]
  },
  {
   "cell_type": "code",
   "execution_count": null,
   "metadata": {
    "colab": {
     "base_uri": "https://localhost:8080/"
    },
    "id": "khc5oZXkjV9I",
    "outputId": "0eb96633-994a-4f46-bd5b-f9dd689a3c8d"
   },
   "outputs": [
    {
     "data": {
      "text/plain": [
       "114304"
      ]
     },
     "execution_count": 23,
     "metadata": {},
     "output_type": "execute_result"
    }
   ],
   "source": [
    "len(dataloader) * 128"
   ]
  },
  {
   "cell_type": "code",
   "execution_count": 22,
   "metadata": {
    "id": "ZViiXbnaT-7M"
   },
   "outputs": [],
   "source": [
    "import torch.nn as nn\n",
    "import torchvision.models"
   ]
  },
  {
   "cell_type": "markdown",
   "metadata": {
    "id": "f42501fc-b573-4893-a7c4-5e280dfdaf09"
   },
   "source": [
    "## Define Model"
   ]
  },
  {
   "cell_type": "code",
   "execution_count": 23,
   "metadata": {
    "id": "65960bfb-803a-4c40-b713-6f647779e4ea"
   },
   "outputs": [],
   "source": [
    "import torchvision.models as models\n",
    "\n",
    "def convrelu(in_channels, out_channels, kernel, padding):\n",
    "  return nn.Sequential(\n",
    "    nn.Conv2d(in_channels, out_channels, kernel, padding=padding),\n",
    "    nn.ReLU(inplace=True),\n",
    "  )\n",
    "\n",
    "\n",
    "class ResNetUNet(nn.Module):\n",
    "  def __init__(self, n_class):\n",
    "    super().__init__()\n",
    "\n",
    "    self.base_model = torchvision.models.resnet18(pretrained=True)\n",
    "    self.base_layers = list(self.base_model.children())\n",
    "\n",
    "    self.layer0 = nn.Sequential(*self.base_layers[:3]) # size=(N, 64, x.H/2, x.W/2)\n",
    "    self.layer0_1x1 = convrelu(64, 64, 1, 0)\n",
    "    self.layer1 = nn.Sequential(*self.base_layers[3:5]) # size=(N, 64, x.H/4, x.W/4)\n",
    "    self.layer1_1x1 = convrelu(64, 64, 1, 0)\n",
    "    self.layer2 = self.base_layers[5]  # size=(N, 128, x.H/8, x.W/8)\n",
    "    self.layer2_1x1 = convrelu(128, 128, 1, 0)\n",
    "    self.layer3 = self.base_layers[6]  # size=(N, 256, x.H/16, x.W/16)\n",
    "    self.layer3_1x1 = convrelu(256, 256, 1, 0)\n",
    "    self.layer4 = self.base_layers[7]  # size=(N, 512, x.H/32, x.W/32)\n",
    "    self.layer4_1x1 = convrelu(512, 512, 1, 0)\n",
    "\n",
    "    self.upsample = nn.Upsample(scale_factor=2, mode='bilinear', align_corners=True)\n",
    "\n",
    "    self.conv_up3 = convrelu(256 + 512, 512, 3, 1)\n",
    "    self.conv_up2 = convrelu(128 + 512, 256, 3, 1)\n",
    "    self.conv_up1 = convrelu(64 + 256, 256, 3, 1)\n",
    "    self.conv_up0 = convrelu(64 + 256, 128, 3, 1)\n",
    "\n",
    "    self.conv_original_size0 = convrelu(3, 64, 3, 1)\n",
    "    self.conv_original_size1 = convrelu(64, 64, 3, 1)\n",
    "    self.conv_original_size2 = convrelu(64 + 128, 64, 3, 1)\n",
    "\n",
    "    self.conv_last = nn.Conv2d(64, n_class, 1)\n",
    "\n",
    "  def forward(self, input):\n",
    "    x_original = self.conv_original_size0(input)\n",
    "    x_original = self.conv_original_size1(x_original)\n",
    "\n",
    "    layer0 = self.layer0(input)\n",
    "    layer1 = self.layer1(layer0)\n",
    "    layer2 = self.layer2(layer1)\n",
    "    layer3 = self.layer3(layer2)\n",
    "    layer4 = self.layer4(layer3)\n",
    "\n",
    "    layer4 = self.layer4_1x1(layer4)\n",
    "    x = self.upsample(layer4)\n",
    "    layer3 = self.layer3_1x1(layer3)\n",
    "    x = torch.cat([x, layer3], dim=1)\n",
    "    x = self.conv_up3(x)\n",
    "\n",
    "    x = self.upsample(x)\n",
    "    layer2 = self.layer2_1x1(layer2)\n",
    "    x = torch.cat([x, layer2], dim=1)\n",
    "    x = self.conv_up2(x)\n",
    "\n",
    "    x = self.upsample(x)\n",
    "    layer1 = self.layer1_1x1(layer1)\n",
    "    x = torch.cat([x, layer1], dim=1)\n",
    "    x = self.conv_up1(x)\n",
    "\n",
    "    x = self.upsample(x)\n",
    "    layer0 = self.layer0_1x1(layer0)\n",
    "    x = torch.cat([x, layer0], dim=1)\n",
    "    x = self.conv_up0(x)\n",
    "\n",
    "    x = self.upsample(x)\n",
    "    x = torch.cat([x, x_original], dim=1)\n",
    "    x = self.conv_original_size2(x)\n",
    "\n",
    "    out = self.conv_last(x)\n",
    "\n",
    "    return out"
   ]
  },
  {
   "cell_type": "code",
   "execution_count": 24,
   "metadata": {},
   "outputs": [
    {
     "name": "stderr",
     "output_type": "stream",
     "text": [
      "/home/aicom/.local/lib/python3.8/site-packages/torchvision/models/_utils.py:208: UserWarning: The parameter 'pretrained' is deprecated since 0.13 and may be removed in the future, please use 'weights' instead.\n",
      "  warnings.warn(\n",
      "/home/aicom/.local/lib/python3.8/site-packages/torchvision/models/_utils.py:223: UserWarning: Arguments other than a weight enum or `None` for 'weights' are deprecated since 0.13 and may be removed in the future. The current behavior is equivalent to passing `weights=ResNet50_Weights.IMAGENET1K_V1`. You can also use `weights=ResNet50_Weights.DEFAULT` to get the most up-to-date weights.\n",
      "  warnings.warn(msg)\n"
     ]
    }
   ],
   "source": [
    "import torch\n",
    "import torch.nn as nn\n",
    "import torchvision\n",
    "resnet = torchvision.models.resnet.resnet50(pretrained=True)\n",
    "\n",
    "\n",
    "class ConvBlock(nn.Module):\n",
    "    \"\"\"\n",
    "    Helper module that consists of a Conv -> BN -> ReLU\n",
    "    \"\"\"\n",
    "\n",
    "    def __init__(self, in_channels, out_channels, padding=1, kernel_size=3, stride=1, with_nonlinearity=True):\n",
    "        super().__init__()\n",
    "        self.conv = nn.Conv2d(in_channels, out_channels, padding=padding, kernel_size=kernel_size, stride=stride)\n",
    "        self.bn = nn.BatchNorm2d(out_channels)\n",
    "        self.relu = nn.ReLU()\n",
    "        self.with_nonlinearity = with_nonlinearity\n",
    "\n",
    "    def forward(self, x):\n",
    "        x = self.conv(x)\n",
    "        x = self.bn(x)\n",
    "        if self.with_nonlinearity:\n",
    "            x = self.relu(x)\n",
    "        return x\n",
    "\n",
    "\n",
    "class Bridge(nn.Module):\n",
    "    \"\"\"\n",
    "    This is the middle layer of the UNet which just consists of some\n",
    "    \"\"\"\n",
    "\n",
    "    def __init__(self, in_channels, out_channels):\n",
    "        super().__init__()\n",
    "        self.bridge = nn.Sequential(\n",
    "            ConvBlock(in_channels, out_channels),\n",
    "            ConvBlock(out_channels, out_channels)\n",
    "        )\n",
    "\n",
    "    def forward(self, x):\n",
    "        return self.bridge(x)\n",
    "\n",
    "\n",
    "class UpBlockForUNetWithResNet50(nn.Module):\n",
    "    \"\"\"\n",
    "    Up block that encapsulates one up-sampling step which consists of Upsample -> ConvBlock -> ConvBlock\n",
    "    \"\"\"\n",
    "\n",
    "    def __init__(self, in_channels, out_channels, up_conv_in_channels=None, up_conv_out_channels=None,\n",
    "                 upsampling_method=\"conv_transpose\"):\n",
    "        super().__init__()\n",
    "\n",
    "        if up_conv_in_channels == None:\n",
    "            up_conv_in_channels = in_channels\n",
    "        if up_conv_out_channels == None:\n",
    "            up_conv_out_channels = out_channels\n",
    "\n",
    "        if upsampling_method == \"conv_transpose\":\n",
    "            self.upsample = nn.ConvTranspose2d(up_conv_in_channels, up_conv_out_channels, kernel_size=2, stride=2)\n",
    "        elif upsampling_method == \"bilinear\":\n",
    "            self.upsample = nn.Sequential(\n",
    "                nn.Upsample(mode='bilinear', scale_factor=2),\n",
    "                nn.Conv2d(in_channels, out_channels, kernel_size=1, stride=1)\n",
    "            )\n",
    "        self.conv_block_1 = ConvBlock(in_channels, out_channels)\n",
    "        self.conv_block_2 = ConvBlock(out_channels, out_channels)\n",
    "\n",
    "    def forward(self, up_x, down_x):\n",
    "        \"\"\"\n",
    "\n",
    "        :param up_x: this is the output from the previous up block\n",
    "        :param down_x: this is the output from the down block\n",
    "        :return: upsampled feature map\n",
    "        \"\"\"\n",
    "        x = self.upsample(up_x)\n",
    "        x = torch.cat([x, down_x], 1)\n",
    "        x = self.conv_block_1(x)\n",
    "        x = self.conv_block_2(x)\n",
    "        return x\n",
    "\n",
    "\n",
    "class UNetWithResnet50Encoder(nn.Module):\n",
    "    DEPTH = 6\n",
    "\n",
    "    def __init__(self, n_classes=1):\n",
    "        super().__init__()\n",
    "        resnet = torchvision.models.resnet.resnet50(pretrained=True)\n",
    "        down_blocks = []\n",
    "        up_blocks = []\n",
    "        self.input_block = nn.Sequential(*list(resnet.children()))[:3]\n",
    "        self.input_pool = list(resnet.children())[3]\n",
    "        for bottleneck in list(resnet.children()):\n",
    "            if isinstance(bottleneck, nn.Sequential):\n",
    "                down_blocks.append(bottleneck)\n",
    "        self.down_blocks = nn.ModuleList(down_blocks)\n",
    "        self.bridge = Bridge(2048, 2048)\n",
    "        up_blocks.append(UpBlockForUNetWithResNet50(2048, 1024))\n",
    "        up_blocks.append(UpBlockForUNetWithResNet50(1024, 512))\n",
    "        up_blocks.append(UpBlockForUNetWithResNet50(512, 256))\n",
    "        up_blocks.append(UpBlockForUNetWithResNet50(in_channels=128 + 64, out_channels=128,\n",
    "                                                    up_conv_in_channels=256, up_conv_out_channels=128))\n",
    "        up_blocks.append(UpBlockForUNetWithResNet50(in_channels=64 + 3, out_channels=64,\n",
    "                                                    up_conv_in_channels=128, up_conv_out_channels=64))\n",
    "\n",
    "        self.up_blocks = nn.ModuleList(up_blocks)\n",
    "\n",
    "        self.out = nn.Conv2d(64, n_classes, kernel_size=1, stride=1)\n",
    "\n",
    "    def forward(self, x, with_output_feature_map=False):\n",
    "        pre_pools = dict()\n",
    "        pre_pools[f\"layer_0\"] = x\n",
    "        x = self.input_block(x)\n",
    "        pre_pools[f\"layer_1\"] = x\n",
    "        x = self.input_pool(x)\n",
    "\n",
    "        for i, block in enumerate(self.down_blocks, 2):\n",
    "            x = block(x)\n",
    "            if i == (UNetWithResnet50Encoder.DEPTH - 1):\n",
    "                continue\n",
    "            pre_pools[f\"layer_{i}\"] = x\n",
    "\n",
    "        x = self.bridge(x)\n",
    "\n",
    "        for i, block in enumerate(self.up_blocks, 1):\n",
    "            key = f\"layer_{UNetWithResnet50Encoder.DEPTH - 1 - i}\"\n",
    "            x = block(x, pre_pools[key])\n",
    "        output_feature_map = x\n",
    "        x = self.out(x)\n",
    "        del pre_pools\n",
    "        if with_output_feature_map:\n",
    "            return x, output_feature_map\n",
    "        else:\n",
    "            return x"
   ]
  },
  {
   "cell_type": "markdown",
   "metadata": {
    "id": "a0895765-fba0-4fd9-b955-a6c0e43012e9"
   },
   "source": [
    "## Model Train"
   ]
  },
  {
   "cell_type": "code",
   "execution_count": null,
   "metadata": {
    "id": "3B06HuJFVHct"
   },
   "outputs": [],
   "source": [
    "model"
   ]
  },
  {
   "cell_type": "code",
   "execution_count": null,
   "metadata": {
    "id": "-wATNgY2VXcN"
   },
   "outputs": [],
   "source": [
    "from torchsummary import summary\n",
    "summary(model, input_size=(3, 512, 512))"
   ]
  },
  {
   "cell_type": "code",
   "execution_count": 25,
   "metadata": {
    "id": "TZDRz8LwDB7V"
   },
   "outputs": [],
   "source": [
    "import warnings\n",
    "\n",
    "# 경고 메시지 무시 설정\n",
    "warnings.filterwarnings(\"ignore\")"
   ]
  },
  {
   "cell_type": "code",
   "execution_count": 27,
   "metadata": {},
   "outputs": [],
   "source": [
    "criterion = torch.nn.BCEWithLogitsLoss()\n",
    "optimizer = torch.optim.Adam(model.parameters(), lr=0.0001)"
   ]
  },
  {
   "cell_type": "code",
   "execution_count": null,
   "metadata": {},
   "outputs": [],
   "source": [
    "params = [ p.requires_grad 인 경우 model.parameters() 의 p 에 대한 p ] 옵티마이저 = torch.optim.SGD(params, lr=lr, momentum=momentum, weight_decay=weight_decay) lr_scheduler = torch.optim.lr_scheduler.StepLR(옵티마이저 , step_size= 5 , 감마= 0.1 ) n_batches = 길이 (dl_train)\n",
    "\n"
   ]
  },
  {
   "cell_type": "code",
   "execution_count": 27,
   "metadata": {
    "colab": {
     "base_uri": "https://localhost:8080/",
     "height": 657
    },
    "id": "63efb381-98c6-4d9b-a3b6-bd11c7fa8c41",
    "outputId": "fcd8d924-5d15-4dc3-cde8-6122d8725f91"
   },
   "outputs": [
    {
     "name": "stderr",
     "output_type": "stream",
     "text": [
      "100%|██████████| 13446/13446 [1:51:49<00:00,  2.00it/s] \n"
     ]
    },
    {
     "name": "stdout",
     "output_type": "stream",
     "text": [
      "Epoch 1, Loss: 0.07878071975550861\n"
     ]
    },
    {
     "name": "stderr",
     "output_type": "stream",
     "text": [
      "100%|██████████| 13446/13446 [1:51:23<00:00,  2.01it/s]"
     ]
    },
    {
     "name": "stdout",
     "output_type": "stream",
     "text": [
      "Epoch 2, Loss: 0.055115959336935465\n"
     ]
    },
    {
     "name": "stderr",
     "output_type": "stream",
     "text": [
      "\n"
     ]
    }
   ],
   "source": [
    "# model 초기화\n",
    "\n",
    "#model = ResNetUNet(1)\n",
    "model = UNetWithResnet50Encoder()\n",
    "model = nn.DataParallel(model,device_ids = [0,1,2,3])\n",
    "model.to(device)\n",
    "\n",
    "# loss function과 optimizer 정의\n",
    "criterion = torch.nn.BCEWithLogitsLoss()\n",
    "optimizer = torch.optim.Adam(model.parameters(), lr=0.0001)\n",
    "#optimizer = torch.optim.SGD(model.parameters(), lr=0.0001)\n",
    "#lr_scheduler = torch.optim.lr_scheduler.StepLR(optimizer, step_size=5, gamma=0.1)\n",
    "# training loop\n",
    "for epoch in range(2):  # 10 에폭 동안 학습합니다.\n",
    "    model.train()\n",
    "    epoch_loss = 0\n",
    "    for images, masks in tqdm(dataloader):\n",
    "        images = images.float().to(device)\n",
    "        masks = masks.float().to(device)\n",
    "\n",
    "        optimizer.zero_grad()\n",
    "        outputs = model(images)\n",
    "        loss = criterion(outputs, masks.unsqueeze(1))\n",
    "        loss.backward()\n",
    "        optimizer.step()\n",
    "        \n",
    "        epoch_loss += loss.item()\n",
    "        #lr_scheduler.step()\n",
    "    print(f'Epoch {epoch+1}, Loss: {epoch_loss/len(dataloader)}')"
   ]
  },
  {
   "cell_type": "code",
   "execution_count": null,
   "metadata": {
    "id": "N3jJVqGUKPiG"
   },
   "outputs": [],
   "source": [
    "from google.colab import drive\n",
    "drive.mount('/content/drive')"
   ]
  },
  {
   "cell_type": "code",
   "execution_count": 26,
   "metadata": {},
   "outputs": [],
   "source": [
    "epoch = 4\n",
    "torch.save({\n",
    "            'epoch': epoch,\n",
    "            'model_state_dict': model.state_dict(),\n",
    "            'optimizer_state_dict': optimizer.state_dict(),\n",
    "            'loss': loss,\n",
    "            }, './model(b=16,resnetunet,4).pth')"
   ]
  },
  {
   "cell_type": "code",
   "execution_count": null,
   "metadata": {},
   "outputs": [
    {
     "name": "stderr",
     "output_type": "stream",
     "text": [
      " 46%|████▌     | 6151/13446 [49:49<57:24,  2.12it/s]  "
     ]
    }
   ],
   "source": [
    "model = UNetWithResnet50Encoder()\n",
    "model = nn.DataParallel(model,device_ids = [0,1,2,3])\n",
    "model.to(device)\n",
    "\n",
    "checkpoint = torch.load('./model(b=16,resnetunet,4).pth')\n",
    "model.load_state_dict(checkpoint['model_state_dict'])\n",
    "optimizer.load_state_dict(checkpoint['optimizer_state_dict'])\n",
    "epoch = checkpoint['epoch']\n",
    "loss = checkpoint['loss']\n",
    "\n",
    "for epoch in range(2):  # 10 에폭 동안 학습합니다.\n",
    "    model.train()\n",
    "    epoch_loss = 0\n",
    "    for images, masks in tqdm(dataloader):\n",
    "        images = images.float().to(device)\n",
    "        masks = masks.float().to(device)\n",
    "\n",
    "        optimizer.zero_grad()\n",
    "        outputs = model(images)\n",
    "        loss = criterion(outputs, masks.unsqueeze(1))\n",
    "        loss.backward()\n",
    "        optimizer.step()\n",
    "\n",
    "        epoch_loss += loss.item()\n",
    "\n",
    "    print(f'Epoch {epoch+1}, Loss: {epoch_loss/len(dataloader)}')"
   ]
  },
  {
   "cell_type": "code",
   "execution_count": 29,
   "metadata": {
    "id": "oAassPXQuec2"
   },
   "outputs": [],
   "source": [
    "import torch\n",
    "\n",
    "# 학습된 모델을 model 변수에 할당한 후 저장\n",
    "torch.save(model, './model(adv-10-64-0.0001).pth')\n",
    "#totalrr10 배치사이즈 16 0.0001 25장 10번 에포크"
   ]
  },
  {
   "cell_type": "code",
   "execution_count": 20,
   "metadata": {
    "id": "vjZSZ9xj9f5o"
   },
   "outputs": [],
   "source": [
    "torch.save(model.state_dict(), 'model-con.pt')"
   ]
  },
  {
   "cell_type": "code",
   "execution_count": 30,
   "metadata": {
    "id": "7N-G62cn-Qu_"
   },
   "outputs": [],
   "source": [
    "import torch\n",
    "model = torch.load(\"./model(adv-10-64-0.0001).pth\", map_location=device)"
   ]
  },
  {
   "cell_type": "code",
   "execution_count": null,
   "metadata": {
    "colab": {
     "base_uri": "https://localhost:8080/",
     "height": 452
    },
    "id": "bvv5faErId2v",
    "outputId": "76e57b32-17c7-44a7-fb30-69a1d3f7f0d2"
   },
   "outputs": [
    {
     "data": {
      "image/png": "[encoded data removed]",
      "text/plain": [
       "<Figure size 640x480 with 1 Axes>"
      ]
     },
     "metadata": {},
     "output_type": "display_data"
    }
   ],
   "source": [
    "# train 시각화 함수\n",
    "import matplotlib.pyplot as plt\n",
    "\n",
    "def analyze_train_sample(model, ds_train, sample_index=10):\n",
    "\n",
    "    # sample image\n",
    "\n",
    "      for img in ds_train:\n",
    "        model.eval()\n",
    "        with torch.no_grad():\n",
    "            #print(img[0][:112,:112])\n",
    "            img= img[0].float().to(device)\n",
    "            preds = model(img)\n",
    "            #print(preds[0][0][:112,:112])\n",
    "        #print(img[0])\n",
    "        tmp = dataset2[1][0] / 255.0\n",
    "        #print(tmp)\n",
    "        plt.imshow(tmp[:112,:112].cpu().numpy().transpose((1, 2, 0)))\n",
    "        masks = torch.sigmoid(preds[1][0][:112,:112]).cpu().numpy()\n",
    "        #masks = np.squeeze(masks, axis=1)\n",
    "        #print(masks)\n",
    "        masks = masks >0.5\n",
    "        plt.imshow(masks, alpha=0.4)\n",
    "        plt.title('Predictions')\n",
    "        plt.show()\n",
    "        break\n",
    "      return preds\n",
    "\n",
    "\n",
    "sample_vi = analyze_train_sample(model, dataloader, 1)"
   ]
  },
  {
   "cell_type": "code",
   "execution_count": null,
   "metadata": {
    "id": "cWQJg8SG-OEo"
   },
   "outputs": [],
   "source": [
    "# train 시각화 함수\n",
    "import matplotlib.pyplot as plt\n",
    "\n",
    "def analyze_train_sample(model, ds_train, sample_index=10):\n",
    "\n",
    "    # sample image\n",
    "\n",
    "      for img in ds_train:\n",
    "        model.eval()\n",
    "        with torch.no_grad():\n",
    "            #print(img)\n",
    "            img= img.float().to(device)\n",
    "            preds = model(img)\n",
    "        plt.imshow(img[7].cpu().numpy().transpose((1, 2, 0)))\n",
    "        masks = torch.sigmoid(preds[7][0]).cpu().numpy()\n",
    "        #masks = np.squeeze(masks, axis=1)\n",
    "        #print(masks)\n",
    "        masks = masks >0.5\n",
    "        plt.imshow(masks, alpha=0.4)\n",
    "        plt.title('Predictions')\n",
    "        plt.show\n",
    "        break\n",
    "      return preds\n",
    "\n",
    "\n",
    "sample_vi = analyze_train_sample(model, test_dataloader, 20)"
   ]
  },
  {
   "cell_type": "code",
   "execution_count": 24,
   "metadata": {},
   "outputs": [
    {
     "ename": "NameError",
     "evalue": "name 'valid_dataloader' is not defined",
     "output_type": "error",
     "traceback": [
      "\u001b[0;31m---------------------------------------------------------------------------\u001b[0m",
      "\u001b[0;31mNameError\u001b[0m                                 Traceback (most recent call last)",
      "\u001b[0;32m<ipython-input-24-e6e73caa5069>\u001b[0m in \u001b[0;36m<module>\u001b[0;34m\u001b[0m\n\u001b[1;32m      2\u001b[0m     \u001b[0mmodel\u001b[0m\u001b[0;34m.\u001b[0m\u001b[0meval\u001b[0m\u001b[0;34m(\u001b[0m\u001b[0;34m)\u001b[0m\u001b[0;34m\u001b[0m\u001b[0;34m\u001b[0m\u001b[0m\n\u001b[1;32m      3\u001b[0m     \u001b[0mresult\u001b[0m \u001b[0;34m=\u001b[0m \u001b[0;34m[\u001b[0m\u001b[0;34m]\u001b[0m\u001b[0;34m\u001b[0m\u001b[0;34m\u001b[0m\u001b[0m\n\u001b[0;32m----> 4\u001b[0;31m     \u001b[0;32mfor\u001b[0m \u001b[0mimages\u001b[0m\u001b[0;34m,\u001b[0m \u001b[0mmask\u001b[0m \u001b[0;32min\u001b[0m \u001b[0mtqdm\u001b[0m\u001b[0;34m(\u001b[0m\u001b[0mvalid_dataloader\u001b[0m\u001b[0;34m)\u001b[0m\u001b[0;34m:\u001b[0m\u001b[0;34m\u001b[0m\u001b[0;34m\u001b[0m\u001b[0m\n\u001b[0m\u001b[1;32m      5\u001b[0m         \u001b[0mimages\u001b[0m \u001b[0;34m=\u001b[0m \u001b[0mimages\u001b[0m\u001b[0;34m.\u001b[0m\u001b[0mfloat\u001b[0m\u001b[0;34m(\u001b[0m\u001b[0;34m)\u001b[0m\u001b[0;34m.\u001b[0m\u001b[0mto\u001b[0m\u001b[0;34m(\u001b[0m\u001b[0mdevice\u001b[0m\u001b[0;34m)\u001b[0m\u001b[0;34m\u001b[0m\u001b[0;34m\u001b[0m\u001b[0m\n\u001b[1;32m      6\u001b[0m \u001b[0;34m\u001b[0m\u001b[0m\n",
      "\u001b[0;31mNameError\u001b[0m: name 'valid_dataloader' is not defined"
     ]
    }
   ],
   "source": [
    "with torch.no_grad():\n",
    "    model.eval()\n",
    "    result = []\n",
    "    for images, mask in tqdm(valid_dataloader):\n",
    "        images = images.float().to(device)\n",
    "\n",
    "        outputs = model(images)\n",
    "        masks = torch.sigmoid(outputs).cpu().numpy()\n",
    "        masks = np.squeeze(masks, axis=1)\n",
    "        masks = (masks > 0.45).astype(np.uint8) # Threshold = 0.35\n",
    "\n",
    "        for i in range(len(images)):\n",
    "            mask_rle = rle_encode(masks[i])\n",
    "            if mask_rle == '': # 예측된 건물 픽셀이 아예 없는 경우 -1\n",
    "                result.append(-1)\n",
    "            else:\n",
    "                result.append(mask_rle)"
   ]
  },
  {
   "cell_type": "code",
   "execution_count": 25,
   "metadata": {},
   "outputs": [
    {
     "data": {
      "image/png": "[encoded data removed]",
      "text/plain": [
       "<Figure size 1080x1080 with 3 Axes>"
      ]
     },
     "metadata": {
      "needs_background": "light"
     },
     "output_type": "display_data"
    }
   ],
   "source": [
    "import matplotlib.pyplot as plt\n",
    "\n",
    "def display(display_list):\n",
    "    plt.figure(figsize=(15, 15))\n",
    "\n",
    "    title = ['Input Image', 'True Mask', 'Predicted Mask']\n",
    "\n",
    "    for i in range(len(display_list)):\n",
    "        plt.subplot(1, len(display_list), i+1)\n",
    "        plt.title(title[i])\n",
    "        if i == 0:\n",
    "            img = cv2.imread(display_list[i])\n",
    "            img = cv2.cvtColor(img, cv2.COLOR_BGR2RGB)\n",
    "            img = img.astype(np.uint8).copy()\n",
    "        if i == 1:\n",
    "            img = cv2.imread(display_list[i], 0)\n",
    "        if i == 2:\n",
    "            img = rle_decode(display_list[i], shape = (224, 224)) # shape 설정\n",
    "\n",
    "        plt.imshow(img)\n",
    "        plt.axis('off')\n",
    "    plt.show()\n",
    "\n",
    "idx = 3\n",
    "\n",
    "valid_img_path_idx = valid_img_dir + df_valid['img_path'][idx]\n",
    "valid_mask_path_idx = valid_mask_dir + df_valid['mask_path'][idx]\n",
    "valid_pred_mask_idx = result[idx]\n",
    "\n",
    "display_list = [valid_img_path_idx, valid_mask_path_idx, valid_pred_mask_idx]\n",
    "display(display_list)"
   ]
  },
  {
   "cell_type": "code",
   "execution_count": 26,
   "metadata": {},
   "outputs": [],
   "source": [
    "import numpy as np\n",
    "import pandas as pd\n",
    "from typing import List, Union\n",
    "from joblib import Parallel, delayed\n",
    "\n",
    "\n",
    "def rle_decode(mask_rle: Union[str, int], shape=(224, 224)) -> np.array:\n",
    "    '''\n",
    "    mask_rle: run-length as string formatted (start length)\n",
    "    shape: (height,width) of array to return\n",
    "    Returns numpy array, 1 - mask, 0 - background\n",
    "    '''\n",
    "    if mask_rle == -1:\n",
    "        return np.zeros(shape)\n",
    "\n",
    "    s = mask_rle.split()\n",
    "    starts, lengths = [np.asarray(x, dtype=int) for x in (s[0:][::2], s[1:][::2])]\n",
    "    starts -= 1\n",
    "    ends = starts + lengths\n",
    "    img = np.zeros(shape[0]*shape[1], dtype=np.uint8)\n",
    "    for lo, hi in zip(starts, ends):\n",
    "        img[lo:hi] = 1\n",
    "    return img.reshape(shape)"
   ]
  },
  {
   "cell_type": "code",
   "execution_count": 27,
   "metadata": {},
   "outputs": [],
   "source": [
    "def dice_score(prediction: np.array, ground_truth: np.array, smooth=1e-7) -> float:\n",
    "    '''\n",
    "    Calculate Dice Score between two binary masks.\n",
    "    '''\n",
    "    intersection = np.sum(prediction * ground_truth)\n",
    "    return (2.0 * intersection + smooth) / (np.sum(prediction) + np.sum(ground_truth) + smooth)\n",
    "\n",
    "\n",
    "def calculate_dice_scores(ground_truth_df, prediction_df, img_shape=(224, 224)) -> List[float]:\n",
    "    '''\n",
    "    Calculate Dice scores for a dataset.\n",
    "    '''\n",
    "\n",
    "\n",
    "    # Keep only the rows in the prediction dataframe that have matching img_ids in the ground truth dataframe\n",
    "    prediction_df = prediction_df[prediction_df.iloc[:, 0].isin(ground_truth_df.iloc[:, 0])]\n",
    "    prediction_df.index = range(prediction_df.shape[0])\n",
    "\n",
    "\n",
    "    # Extract the mask_rle columns\n",
    "    pred_mask_rle = prediction_df.iloc[:, 1]\n",
    "    gt_mask_rle = ground_truth_df.iloc[:, 1]\n",
    "\n",
    "\n",
    "    def calculate_dice(pred_rle, gt_rle):\n",
    "        pred_mask = rle_decode(pred_rle, img_shape)\n",
    "        gt_mask = rle_decode(gt_rle, img_shape)\n",
    "\n",
    "\n",
    "        if np.sum(gt_mask) > 0 or np.sum(pred_mask) > 0:\n",
    "            return dice_score(pred_mask, gt_mask)\n",
    "        else:\n",
    "            return None  # No valid masks found, return None\n",
    "\n",
    "\n",
    "    dice_scores = Parallel(n_jobs=-1)(\n",
    "        delayed(calculate_dice)(pred_rle, gt_rle) for pred_rle, gt_rle in zip(pred_mask_rle, gt_mask_rle)\n",
    "    )\n",
    "\n",
    "\n",
    "    dice_scores = [score for score in dice_scores if score is not None]  # Exclude None values\n",
    "\n",
    "\n",
    "    return np.mean(dice_scores)"
   ]
  },
  {
   "cell_type": "code",
   "execution_count": 28,
   "metadata": {},
   "outputs": [],
   "source": [
    "valid_pred = {'mask_rle': result}\n",
    "prediction_df = pd.DataFrame(data = valid_pred)\n",
    "\n",
    "\n",
    "lst_ground_truth_rle = [rle_encode((validset.__getitem__(i))[1]) for i in range(len(df_valid))]\n",
    "valid_pred = {'mask_rle': lst_ground_truth_rle}\n",
    "ground_truth_df = pd.DataFrame(data = valid_pred)"
   ]
  },
  {
   "cell_type": "code",
   "execution_count": 33,
   "metadata": {},
   "outputs": [],
   "source": [
    "import tensorflow as tf\n",
    "from tensorflow import keras\n",
    "from keras.metrics import MeanIoU\n",
    "from matplotlib import pyplot as plt\n",
    "import tifffile as tiff\n",
    "from PIL import Image\n",
    "import random"
   ]
  },
  {
   "cell_type": "code",
   "execution_count": 34,
   "metadata": {},
   "outputs": [
    {
     "ename": "IndexError",
     "evalue": "single positional indexer is out-of-bounds",
     "output_type": "error",
     "traceback": [
      "\u001b[0;31m---------------------------------------------------------------------------\u001b[0m",
      "\u001b[0;31mIndexError\u001b[0m                                Traceback (most recent call last)",
      "\u001b[0;32m<ipython-input-34-099420d745a0>\u001b[0m in \u001b[0;36m<module>\u001b[0;34m\u001b[0m\n\u001b[0;32m----> 1\u001b[0;31m \u001b[0mcalculate_dice_scores\u001b[0m\u001b[0;34m(\u001b[0m\u001b[0mground_truth_df\u001b[0m\u001b[0;34m,\u001b[0m \u001b[0mprediction_df\u001b[0m\u001b[0;34m,\u001b[0m \u001b[0mimg_shape\u001b[0m\u001b[0;34m=\u001b[0m\u001b[0;34m(\u001b[0m\u001b[0;36m224\u001b[0m\u001b[0;34m,\u001b[0m \u001b[0;36m224\u001b[0m\u001b[0;34m)\u001b[0m\u001b[0;34m)\u001b[0m\u001b[0;34m\u001b[0m\u001b[0;34m\u001b[0m\u001b[0m\n\u001b[0m",
      "\u001b[0;32m<ipython-input-27-2f33fc3bce5e>\u001b[0m in \u001b[0;36mcalculate_dice_scores\u001b[0;34m(ground_truth_df, prediction_df, img_shape)\u001b[0m\n\u001b[1;32m     19\u001b[0m \u001b[0;34m\u001b[0m\u001b[0m\n\u001b[1;32m     20\u001b[0m     \u001b[0;31m# Extract the mask_rle columns\u001b[0m\u001b[0;34m\u001b[0m\u001b[0;34m\u001b[0m\u001b[0;34m\u001b[0m\u001b[0m\n\u001b[0;32m---> 21\u001b[0;31m     \u001b[0mpred_mask_rle\u001b[0m \u001b[0;34m=\u001b[0m \u001b[0mprediction_df\u001b[0m\u001b[0;34m.\u001b[0m\u001b[0miloc\u001b[0m\u001b[0;34m[\u001b[0m\u001b[0;34m:\u001b[0m\u001b[0;34m,\u001b[0m \u001b[0;36m1\u001b[0m\u001b[0;34m]\u001b[0m\u001b[0;34m\u001b[0m\u001b[0;34m\u001b[0m\u001b[0m\n\u001b[0m\u001b[1;32m     22\u001b[0m     \u001b[0mgt_mask_rle\u001b[0m \u001b[0;34m=\u001b[0m \u001b[0mground_truth_df\u001b[0m\u001b[0;34m.\u001b[0m\u001b[0miloc\u001b[0m\u001b[0;34m[\u001b[0m\u001b[0;34m:\u001b[0m\u001b[0;34m,\u001b[0m \u001b[0;36m1\u001b[0m\u001b[0;34m]\u001b[0m\u001b[0;34m\u001b[0m\u001b[0;34m\u001b[0m\u001b[0m\n\u001b[1;32m     23\u001b[0m \u001b[0;34m\u001b[0m\u001b[0m\n",
      "\u001b[0;32m/compuworks/anaconda3/lib/python3.8/site-packages/pandas/core/indexing.py\u001b[0m in \u001b[0;36m__getitem__\u001b[0;34m(self, key)\u001b[0m\n\u001b[1;32m    871\u001b[0m                     \u001b[0;31m# AttributeError for IntervalTree get_value\u001b[0m\u001b[0;34m\u001b[0m\u001b[0;34m\u001b[0m\u001b[0;34m\u001b[0m\u001b[0m\n\u001b[1;32m    872\u001b[0m                     \u001b[0;32mpass\u001b[0m\u001b[0;34m\u001b[0m\u001b[0;34m\u001b[0m\u001b[0m\n\u001b[0;32m--> 873\u001b[0;31m             \u001b[0;32mreturn\u001b[0m \u001b[0mself\u001b[0m\u001b[0;34m.\u001b[0m\u001b[0m_getitem_tuple\u001b[0m\u001b[0;34m(\u001b[0m\u001b[0mkey\u001b[0m\u001b[0;34m)\u001b[0m\u001b[0;34m\u001b[0m\u001b[0;34m\u001b[0m\u001b[0m\n\u001b[0m\u001b[1;32m    874\u001b[0m         \u001b[0;32melse\u001b[0m\u001b[0;34m:\u001b[0m\u001b[0;34m\u001b[0m\u001b[0;34m\u001b[0m\u001b[0m\n\u001b[1;32m    875\u001b[0m             \u001b[0;31m# we by definition only have the 0th axis\u001b[0m\u001b[0;34m\u001b[0m\u001b[0;34m\u001b[0m\u001b[0;34m\u001b[0m\u001b[0m\n",
      "\u001b[0;32m/compuworks/anaconda3/lib/python3.8/site-packages/pandas/core/indexing.py\u001b[0m in \u001b[0;36m_getitem_tuple\u001b[0;34m(self, tup)\u001b[0m\n\u001b[1;32m   1441\u001b[0m     \u001b[0;32mdef\u001b[0m \u001b[0m_getitem_tuple\u001b[0m\u001b[0;34m(\u001b[0m\u001b[0mself\u001b[0m\u001b[0;34m,\u001b[0m \u001b[0mtup\u001b[0m\u001b[0;34m:\u001b[0m \u001b[0mTuple\u001b[0m\u001b[0;34m)\u001b[0m\u001b[0;34m:\u001b[0m\u001b[0;34m\u001b[0m\u001b[0;34m\u001b[0m\u001b[0m\n\u001b[1;32m   1442\u001b[0m \u001b[0;34m\u001b[0m\u001b[0m\n\u001b[0;32m-> 1443\u001b[0;31m         \u001b[0mself\u001b[0m\u001b[0;34m.\u001b[0m\u001b[0m_has_valid_tuple\u001b[0m\u001b[0;34m(\u001b[0m\u001b[0mtup\u001b[0m\u001b[0;34m)\u001b[0m\u001b[0;34m\u001b[0m\u001b[0;34m\u001b[0m\u001b[0m\n\u001b[0m\u001b[1;32m   1444\u001b[0m         \u001b[0;32mtry\u001b[0m\u001b[0;34m:\u001b[0m\u001b[0;34m\u001b[0m\u001b[0;34m\u001b[0m\u001b[0m\n\u001b[1;32m   1445\u001b[0m             \u001b[0;32mreturn\u001b[0m \u001b[0mself\u001b[0m\u001b[0;34m.\u001b[0m\u001b[0m_getitem_lowerdim\u001b[0m\u001b[0;34m(\u001b[0m\u001b[0mtup\u001b[0m\u001b[0;34m)\u001b[0m\u001b[0;34m\u001b[0m\u001b[0;34m\u001b[0m\u001b[0m\n",
      "\u001b[0;32m/compuworks/anaconda3/lib/python3.8/site-packages/pandas/core/indexing.py\u001b[0m in \u001b[0;36m_has_valid_tuple\u001b[0;34m(self, key)\u001b[0m\n\u001b[1;32m    700\u001b[0m                 \u001b[0;32mraise\u001b[0m \u001b[0mIndexingError\u001b[0m\u001b[0;34m(\u001b[0m\u001b[0;34m\"Too many indexers\"\u001b[0m\u001b[0;34m)\u001b[0m\u001b[0;34m\u001b[0m\u001b[0;34m\u001b[0m\u001b[0m\n\u001b[1;32m    701\u001b[0m             \u001b[0;32mtry\u001b[0m\u001b[0;34m:\u001b[0m\u001b[0;34m\u001b[0m\u001b[0;34m\u001b[0m\u001b[0m\n\u001b[0;32m--> 702\u001b[0;31m                 \u001b[0mself\u001b[0m\u001b[0;34m.\u001b[0m\u001b[0m_validate_key\u001b[0m\u001b[0;34m(\u001b[0m\u001b[0mk\u001b[0m\u001b[0;34m,\u001b[0m \u001b[0mi\u001b[0m\u001b[0;34m)\u001b[0m\u001b[0;34m\u001b[0m\u001b[0;34m\u001b[0m\u001b[0m\n\u001b[0m\u001b[1;32m    703\u001b[0m             \u001b[0;32mexcept\u001b[0m \u001b[0mValueError\u001b[0m \u001b[0;32mas\u001b[0m \u001b[0merr\u001b[0m\u001b[0;34m:\u001b[0m\u001b[0;34m\u001b[0m\u001b[0;34m\u001b[0m\u001b[0m\n\u001b[1;32m    704\u001b[0m                 raise ValueError(\n",
      "\u001b[0;32m/compuworks/anaconda3/lib/python3.8/site-packages/pandas/core/indexing.py\u001b[0m in \u001b[0;36m_validate_key\u001b[0;34m(self, key, axis)\u001b[0m\n\u001b[1;32m   1350\u001b[0m             \u001b[0;32mreturn\u001b[0m\u001b[0;34m\u001b[0m\u001b[0;34m\u001b[0m\u001b[0m\n\u001b[1;32m   1351\u001b[0m         \u001b[0;32melif\u001b[0m \u001b[0mis_integer\u001b[0m\u001b[0;34m(\u001b[0m\u001b[0mkey\u001b[0m\u001b[0;34m)\u001b[0m\u001b[0;34m:\u001b[0m\u001b[0;34m\u001b[0m\u001b[0;34m\u001b[0m\u001b[0m\n\u001b[0;32m-> 1352\u001b[0;31m             \u001b[0mself\u001b[0m\u001b[0;34m.\u001b[0m\u001b[0m_validate_integer\u001b[0m\u001b[0;34m(\u001b[0m\u001b[0mkey\u001b[0m\u001b[0;34m,\u001b[0m \u001b[0maxis\u001b[0m\u001b[0;34m)\u001b[0m\u001b[0;34m\u001b[0m\u001b[0;34m\u001b[0m\u001b[0m\n\u001b[0m\u001b[1;32m   1353\u001b[0m         \u001b[0;32melif\u001b[0m \u001b[0misinstance\u001b[0m\u001b[0;34m(\u001b[0m\u001b[0mkey\u001b[0m\u001b[0;34m,\u001b[0m \u001b[0mtuple\u001b[0m\u001b[0;34m)\u001b[0m\u001b[0;34m:\u001b[0m\u001b[0;34m\u001b[0m\u001b[0;34m\u001b[0m\u001b[0m\n\u001b[1;32m   1354\u001b[0m             \u001b[0;31m# a tuple should already have been caught by this point\u001b[0m\u001b[0;34m\u001b[0m\u001b[0;34m\u001b[0m\u001b[0;34m\u001b[0m\u001b[0m\n",
      "\u001b[0;32m/compuworks/anaconda3/lib/python3.8/site-packages/pandas/core/indexing.py\u001b[0m in \u001b[0;36m_validate_integer\u001b[0;34m(self, key, axis)\u001b[0m\n\u001b[1;32m   1435\u001b[0m         \u001b[0mlen_axis\u001b[0m \u001b[0;34m=\u001b[0m \u001b[0mlen\u001b[0m\u001b[0;34m(\u001b[0m\u001b[0mself\u001b[0m\u001b[0;34m.\u001b[0m\u001b[0mobj\u001b[0m\u001b[0;34m.\u001b[0m\u001b[0m_get_axis\u001b[0m\u001b[0;34m(\u001b[0m\u001b[0maxis\u001b[0m\u001b[0;34m)\u001b[0m\u001b[0;34m)\u001b[0m\u001b[0;34m\u001b[0m\u001b[0;34m\u001b[0m\u001b[0m\n\u001b[1;32m   1436\u001b[0m         \u001b[0;32mif\u001b[0m \u001b[0mkey\u001b[0m \u001b[0;34m>=\u001b[0m \u001b[0mlen_axis\u001b[0m \u001b[0;32mor\u001b[0m \u001b[0mkey\u001b[0m \u001b[0;34m<\u001b[0m \u001b[0;34m-\u001b[0m\u001b[0mlen_axis\u001b[0m\u001b[0;34m:\u001b[0m\u001b[0;34m\u001b[0m\u001b[0;34m\u001b[0m\u001b[0m\n\u001b[0;32m-> 1437\u001b[0;31m             \u001b[0;32mraise\u001b[0m \u001b[0mIndexError\u001b[0m\u001b[0;34m(\u001b[0m\u001b[0;34m\"single positional indexer is out-of-bounds\"\u001b[0m\u001b[0;34m)\u001b[0m\u001b[0;34m\u001b[0m\u001b[0;34m\u001b[0m\u001b[0m\n\u001b[0m\u001b[1;32m   1438\u001b[0m \u001b[0;34m\u001b[0m\u001b[0m\n\u001b[1;32m   1439\u001b[0m     \u001b[0;31m# -------------------------------------------------------------------\u001b[0m\u001b[0;34m\u001b[0m\u001b[0;34m\u001b[0m\u001b[0;34m\u001b[0m\u001b[0m\n",
      "\u001b[0;31mIndexError\u001b[0m: single positional indexer is out-of-bounds"
     ]
    }
   ],
   "source": [
    "calculate_dice_scores(ground_truth_df, prediction_df, img_shape=(224, 224))"
   ]
  },
  {
   "cell_type": "code",
   "execution_count": 30,
   "metadata": {},
   "outputs": [],
   "source": [
    "predNoBuildingIdx = list(filter(lambda x: result[x] == -1, range(len(result))))"
   ]
  },
  {
   "cell_type": "code",
   "execution_count": 31,
   "metadata": {},
   "outputs": [],
   "source": [
    "from sklearn.metrics import confusion_matrix\n",
    "\n",
    "def generateConfusionMatrix(ground_truth_mask, pred_mask):\n",
    "    y_true = sum(rle_decode(ground_truth_mask).tolist(), [])\n",
    "    y_pred = sum(rle_decode(pred_mask).tolist(), [])\n",
    "    cMatrix = confusion_matrix(y_true, y_pred)\n",
    "    return cMatrix\n",
    "\n",
    "def generateConfusionMatrixLst(lst_ground_truth_rle, lst_pred_rle):\n",
    "    lst_cMatrix = Parallel(n_jobs=1)(delayed(generateConfusionMatrix)(lst_ground_truth_rle[i], result[i]) for i in range(len(lst_ground_truth_rle)))\n",
    "    return lst_cMatrix"
   ]
  },
  {
   "cell_type": "code",
   "execution_count": 32,
   "metadata": {},
   "outputs": [],
   "source": [
    "Lst_cMatrix = generateConfusionMatrixLst(lst_ground_truth_rle, result)"
   ]
  },
  {
   "cell_type": "code",
   "execution_count": 35,
   "metadata": {},
   "outputs": [],
   "source": [
    "def IoU(cMatrix):\n",
    "    Intersection = cMatrix.diagonal()\n",
    "    Union11 = cMatrix.sum(axis = 0)[0] + cMatrix[0][1]\n",
    "    Union22 = cMatrix.sum(axis = 0)[1] + cMatrix[1][0]\n",
    "    Union = np.array([Union11, Union22])\n",
    "    return Intersection / Union\n",
    "\n",
    "# 전체 이미지 IoU 수치에 대하여 평균냄.\n",
    "def totalIoU(lst_cMatrix):\n",
    "    totalIoU = np.array([0, 0], dtype = 'float64')\n",
    "    for cMat in lst_cMatrix:\n",
    "        totalIoU += IoU(cMat)\n",
    "    return totalIoU / len(lst_cMatrix)\n",
    "\n",
    "def eachIoU(lst_cMatrix):\n",
    "    eachIoU = []\n",
    "    for cMat in lst_cMatrix:\n",
    "        eachIoU.append(IoU(cMat))\n",
    "    return eachIoU"
   ]
  },
  {
   "cell_type": "code",
   "execution_count": 36,
   "metadata": {},
   "outputs": [],
   "source": [
    "totaliou = totalIoU(Lst_cMatrix)"
   ]
  },
  {
   "cell_type": "code",
   "execution_count": 37,
   "metadata": {},
   "outputs": [],
   "source": [
    "def printClassScores(totaliou):\n",
    "    label = ['background', 'building']\n",
    "    print('classes          IoU      nIoU')\n",
    "    print('--------------------------------')\n",
    "    for i, iou in enumerate(totaliou):\n",
    "        labelName = label[i]\n",
    "        iouStr = f'{iou:>5.3f}'\n",
    "        niouStr = 'empty'\n",
    "        print('{:<14}: '.format(labelName) + iouStr + '    ' + niouStr)\n",
    "    print('--------------------------------')\n",
    "    print(f'Score Average : {(np.sum(totaliou) / 2):>5.3f}' + '    ' + niouStr)"
   ]
  },
  {
   "cell_type": "code",
   "execution_count": 38,
   "metadata": {},
   "outputs": [
    {
     "name": "stdout",
     "output_type": "stream",
     "text": [
      "classes          IoU      nIoU\n",
      "--------------------------------\n",
      "background    : 0.964    empty\n",
      "building      : 0.762    empty\n",
      "--------------------------------\n",
      "Score Average : 0.863    empty\n"
     ]
    }
   ],
   "source": [
    "printClassScores(totaliou)"
   ]
  },
  {
   "cell_type": "markdown",
   "metadata": {
    "id": "c32eb51c-a3fe-4e11-a616-3a717ba16f7e"
   },
   "source": [
    "## Inference"
   ]
  },
  {
   "cell_type": "code",
   "execution_count": 31,
   "metadata": {
    "id": "uREUdeoO-QbT"
   },
   "outputs": [],
   "source": [
    "transform3 = A.Compose(\n",
    "    [\n",
    "        A.Resize(224,224),\n",
    "        A.Normalize(),\n",
    "        ToTensorV2()\n",
    "    ]\n",
    ")"
   ]
  },
  {
   "cell_type": "code",
   "execution_count": 32,
   "metadata": {
    "colab": {
     "base_uri": "https://localhost:8080/"
    },
    "id": "12371c8b-0c78-47df-89ec-2d8b55c8ea94",
    "outputId": "5d6f9d7a-9034-4cea-e199-6c57d7ce6340"
   },
   "outputs": [],
   "source": [
    "test_dataset = SatelliteDataset(csv_file='./test.csv', transform=transform3, infer=True)\n",
    "test_dataloader = DataLoader(test_dataset, batch_size=64, shuffle=False, num_workers=48)"
   ]
  },
  {
   "cell_type": "code",
   "execution_count": null,
   "metadata": {
    "colab": {
     "base_uri": "https://localhost:8080/"
    },
    "id": "a714f7AFEPM3",
    "outputId": "66da50cf-324e-4139-ec3a-127ee2733193"
   },
   "outputs": [
    {
     "name": "stderr",
     "output_type": "stream",
     "text": [
      "<ipython-input-23-f5cfe5d6baaa>:21: UserWarning: To copy construct from a tensor, it is recommended to use sourceTensor.clone().detach() or sourceTensor.clone().detach().requires_grad_(True), rather than torch.tensor(sourceTensor).\n",
      "  image = torch.tensor(image, dtype=torch.float32) / 255.0\n"
     ]
    },
    {
     "data": {
      "text/plain": [
       "tensor([[[0.6980, 0.7020, 0.7020,  ..., 0.5765, 0.5765, 0.5882],\n",
       "         [0.7059, 0.7098, 0.7098,  ..., 0.5922, 0.6078, 0.6314],\n",
       "         [0.7137, 0.7137, 0.7098,  ..., 0.5765, 0.5882, 0.6078],\n",
       "         ...,\n",
       "         [0.6745, 0.6667, 0.6706,  ..., 0.7333, 0.7451, 0.6588],\n",
       "         [0.6745, 0.6784, 0.6784,  ..., 0.7608, 0.7216, 0.6471],\n",
       "         [0.6784, 0.6784, 0.6824,  ..., 0.7569, 0.7216, 0.6353]],\n",
       "\n",
       "        [[0.6549, 0.6588, 0.6588,  ..., 0.5176, 0.5176, 0.5294],\n",
       "         [0.6627, 0.6667, 0.6667,  ..., 0.5373, 0.5529, 0.5765],\n",
       "         [0.6706, 0.6706, 0.6667,  ..., 0.5255, 0.5373, 0.5569],\n",
       "         ...,\n",
       "         [0.6549, 0.6431, 0.6392,  ..., 0.7176, 0.7255, 0.6471],\n",
       "         [0.6392, 0.6353, 0.6314,  ..., 0.7255, 0.6902, 0.6157],\n",
       "         [0.6392, 0.6353, 0.6353,  ..., 0.7216, 0.6902, 0.6039]],\n",
       "\n",
       "        [[0.7176, 0.7216, 0.7216,  ..., 0.5059, 0.5059, 0.5176],\n",
       "         [0.7255, 0.7294, 0.7294,  ..., 0.5176, 0.5333, 0.5569],\n",
       "         [0.7333, 0.7333, 0.7294,  ..., 0.4980, 0.5098, 0.5294],\n",
       "         ...,\n",
       "         [0.6824, 0.6824, 0.6902,  ..., 0.7882, 0.8078, 0.7294],\n",
       "         [0.7059, 0.7020, 0.7098,  ..., 0.8039, 0.7765, 0.7059],\n",
       "         [0.7059, 0.7020, 0.7098,  ..., 0.8000, 0.7765, 0.6941]]])"
      ]
     },
     "execution_count": 31,
     "metadata": {},
     "output_type": "execute_result"
    }
   ],
   "source": [
    "test_dataset[0]"
   ]
  },
  {
   "cell_type": "code",
   "execution_count": null,
   "metadata": {
    "id": "2MOkiyIgEPZA"
   },
   "outputs": [],
   "source": []
  },
  {
   "cell_type": "code",
   "execution_count": null,
   "metadata": {
    "id": "BN4ykSXAFYch"
   },
   "outputs": [],
   "source": []
  },
  {
   "cell_type": "code",
   "execution_count": null,
   "metadata": {
    "id": "RyduUqCQu1_a"
   },
   "outputs": [],
   "source": []
  },
  {
   "cell_type": "code",
   "execution_count": null,
   "metadata": {
    "id": "XNqouzJFx8rw"
   },
   "outputs": [],
   "source": []
  },
  {
   "cell_type": "code",
   "execution_count": null,
   "metadata": {
    "id": "rRlP06JY7iJ4"
   },
   "outputs": [],
   "source": []
  },
  {
   "cell_type": "code",
   "execution_count": null,
   "metadata": {
    "colab": {
     "base_uri": "https://localhost:8080/",
     "height": 480
    },
    "id": "355b431c-ac8e-4c40-9046-4d53e4bab14a",
    "outputId": "0db14117-67f6-4b41-f3d1-1bd1f6c5d953"
   },
   "outputs": [
    {
     "name": "stderr",
     "output_type": "stream",
     "text": [
      " 93%|█████████▎| 881/948 [06:32<00:29,  2.27it/s]"
     ]
    }
   ],
   "source": [
    "with torch.no_grad():\n",
    "    model.eval()\n",
    "    result = []\n",
    "    for images in tqdm(test_dataloader):\n",
    "        images = images.float().to(device)\n",
    "\n",
    "        outputs = model(images)\n",
    "        #print(outputs)\n",
    "        masks = torch.sigmoid(outputs).cpu().numpy()\n",
    "        masks = np.squeeze(masks, axis=1)\n",
    "        masks = (masks > 0.4).astype(np.uint8) # Threshold = 0.35\n",
    "        #print(masks)\n",
    "        for i in range(len(images)):\n",
    "            mask_rle = rle_encode(masks[i])\n",
    "            #print(mask_rle)\n",
    "            if mask_rle == '': # 예측된 건물 픽셀이 아예 없는 경우 -1\n",
    "                result.append(-1)\n",
    "            else:\n",
    "                result.append(mask_rle)"
   ]
  },
  {
   "cell_type": "markdown",
   "metadata": {
    "id": "36c2cbbb-04f1-4f9c-b4df-4b744dfce046"
   },
   "source": [
    "## Submission"
   ]
  },
  {
   "cell_type": "code",
   "execution_count": 29,
   "metadata": {
    "id": "f6543d00-32b3-4f2d-a572-d0879fd0a497"
   },
   "outputs": [],
   "source": [
    "submit = pd.read_csv('./sample_submission.csv')\n",
    "submit['mask_rle'] = result"
   ]
  },
  {
   "cell_type": "code",
   "execution_count": null,
   "metadata": {
    "id": "oOkoVsLkjDQc"
   },
   "outputs": [],
   "source": []
  },
  {
   "cell_type": "code",
   "execution_count": 30,
   "metadata": {
    "id": "da10cb6f-0826-4755-a376-97b695ae8f86"
   },
   "outputs": [],
   "source": [
    "submit.to_csv('./submit(resnetunet-adv-64-10).csv', index=False)"
   ]
  },
  {
   "cell_type": "code",
   "execution_count": null,
   "metadata": {},
   "outputs": [],
   "source": []
  }
 ],
 "metadata": {
  "accelerator": "GPU",
  "colab": {
   "gpuType": "A100",
   "machine_shape": "hm",
   "provenance": []
  },
  "kernelspec": {
   "display_name": "Python 3",
   "language": "python",
   "name": "python3"
  },
  "language_info": {
   "codemirror_mode": {
    "name": "ipython",
    "version": 3
   },
   "file_extension": ".py",
   "mimetype": "text/x-python",
   "name": "python",
   "nbconvert_exporter": "python",
   "pygments_lexer": "ipython3",
   "version": "3.8.5"
  }
 },
 "nbformat": 4,
 "nbformat_minor": 5
}
