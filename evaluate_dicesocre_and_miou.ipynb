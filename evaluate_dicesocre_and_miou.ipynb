{
  "cells": [
    {
      "cell_type": "markdown",
      "metadata": {
        "id": "LLoUbbWfnnTQ"
      },
      "source": [
        "# 0. 초기 세팅"
      ]
    },
    {
      "cell_type": "code",
      "execution_count": null,
      "metadata": {
        "id": "-LjVNJocZ2IR"
      },
      "outputs": [],
      "source": [
        "import os\n",
        "import cv2\n",
        "import pandas as pd\n",
        "import numpy as np\n",
        "\n",
        "import torch\n",
        "import torch.nn as nn\n",
        "from torch.utils.data import Dataset, DataLoader\n",
        "from torchvision import transforms\n",
        "\n",
        "from tqdm import tqdm\n",
        "import albumentations as A\n",
        "from albumentations.pytorch import ToTensorV2\n",
        "\n",
        "# Pytorch에서 gpu를 사용하는 방법.\n",
        "device = torch.device(\"cuda:4\" if torch.cuda.is_available() else \"cpu\")\n",
        "torch.cuda.set_device(device)\n",
        "# print('Current cuda device ', torch.cuda.current_device())"
      ]
    },
    {
      "cell_type": "code",
      "execution_count": null,
      "metadata": {
        "id": "yaXGO6iPApx4"
      },
      "outputs": [],
      "source": [
        "import PIL"
      ]
    },
    {
      "cell_type": "code",
      "execution_count": null,
      "metadata": {
        "id": "eSifeRI5NZIR"
      },
      "outputs": [],
      "source": [
        "from matplotlib import pyplot as plt\n",
        "import tifffile as tiff\n",
        "from PIL import Image\n",
        "import random"
      ]
    },
    {
      "cell_type": "code",
      "execution_count": null,
      "metadata": {
        "id": "V0Ucurv9N9xj",
        "scrolled": true
      },
      "outputs": [],
      "source": [
        "import tensorflow as tf\n",
        "from tensorflow import keras\n",
        "from keras.metrics import MeanIoU"
      ]
    },
    {
      "cell_type": "code",
      "execution_count": null,
      "metadata": {
        "id": "ZwsURYIwApx7"
      },
      "outputs": [],
      "source": [
        "from keras.utils import normalize\n",
        "from keras.metrics import MeanIoU"
      ]
    },
    {
      "cell_type": "code",
      "execution_count": null,
      "metadata": {
        "id": "AZaPwDl9Apx8"
      },
      "outputs": [],
      "source": [
        "from keras import backend as K"
      ]
    },
    {
      "cell_type": "code",
      "execution_count": null,
      "metadata": {
        "id": "qh38u3PPApx9"
      },
      "outputs": [],
      "source": [
        "import tensorflow as tf\n",
        "import segmentation_models as sm\n",
        "import segmentation_models_pytorch as smp\n",
        "from segmentation_models_pytorch.encoders import get_preprocessing_fn\n",
        "\n",
        "import glob\n",
        "import cv2\n",
        "import os\n",
        "import numpy as np\n",
        "from matplotlib import pyplot as plt\n",
        "import keras\n",
        "\n",
        "from keras.utils import normalize\n",
        "from keras.metrics import MeanIoU"
      ]
    },
    {
      "cell_type": "code",
      "execution_count": null,
      "metadata": {
        "id": "6kjqB-gkApx-"
      },
      "outputs": [],
      "source": [
        "os.environ[\"CUDA_DEVICE_ORDER\"] = \"PCI_BUS_ID\"\n",
        "os.environ[\"CUDA_VISIBLE_DEVICES\"] = \"4\""
      ]
    },
    {
      "cell_type": "code",
      "execution_count": null,
      "metadata": {
        "id": "vcspYaHHKoOq"
      },
      "outputs": [],
      "source": [
        "import random\n",
        "\n",
        "def seed_everything(seed):\n",
        "    random.seed(seed)\n",
        "    os.environ['PYTHONHASHSEED'] = str(seed)\n",
        "    np.random.seed(seed)\n",
        "\n",
        "seed_everything(42) # Seed 고정"
      ]
    },
    {
      "cell_type": "code",
      "execution_count": null,
      "metadata": {
        "id": "HJmBQYICApyB"
      },
      "outputs": [],
      "source": [
        "torch.cuda.memory_allocated()"
      ]
    },
    {
      "cell_type": "code",
      "execution_count": null,
      "metadata": {
        "id": "wSsvIZZvApyD"
      },
      "outputs": [],
      "source": [
        "print(torch.cuda.is_available())\n",
        "print(torch.cuda.device_count())\n",
        "print(torch.backends.cudnn.enabled)\n",
        "print(torch.backends.cudnn.version())"
      ]
    },
    {
      "cell_type": "markdown",
      "metadata": {
        "id": "NFa1PN8IApyL"
      },
      "source": [
        "# 1-1. 이미지 분석"
      ]
    },
    {
      "cell_type": "code",
      "execution_count": null,
      "metadata": {
        "id": "mPGCcJpcApyL"
      },
      "outputs": [],
      "source": [
        "from PIL import Image"
      ]
    },
    {
      "cell_type": "code",
      "execution_count": null,
      "metadata": {
        "id": "phFMTUnnApyM"
      },
      "outputs": [],
      "source": [
        "def show_hist(img):\n",
        "    img_array = np.array(img)\n",
        "\n",
        "    f = plt.figure(figsize=(18, 8))\n",
        "    f.add_subplot(1, 2, 1)\n",
        "    plt.imshow(img_array, cmap='gray')\n",
        "    plt.title('image', fontsize=20)\n",
        "    f.add_subplot(1, 2, 2)\n",
        "    plt.hist(img_array.flatten(), bins = 256, alpha=0.5)\n",
        "    plt.title('histogram', fontsize=20)\n",
        "    plt.xlabel('gray levels', fontsize = 15)\n",
        "    plt.ylabel('pixel count', fontsize = 15)\n",
        "    plt.show()"
      ]
    },
    {
      "cell_type": "code",
      "execution_count": null,
      "metadata": {
        "id": "6safVuRfApyM"
      },
      "outputs": [],
      "source": [
        "tmp_img_path = train_img_dir + data_train_img[0]\n",
        "tmp_img = valid_images[5]"
      ]
    },
    {
      "cell_type": "code",
      "execution_count": null,
      "metadata": {
        "id": "dXWobSgBApyN"
      },
      "outputs": [],
      "source": [
        "show_hist(tmp_img)"
      ]
    },
    {
      "cell_type": "code",
      "execution_count": null,
      "metadata": {
        "id": "b-xqEsdwApyN"
      },
      "outputs": [],
      "source": [
        "show_hist(tmp_img)\n",
        "\n",
        "transform = A.Compose([A.Normalize()])\n",
        "tmp_img2 = transform(image=tmp_img)['image']\n",
        "show_hist(tmp_img2)"
      ]
    },
    {
      "cell_type": "code",
      "execution_count": null,
      "metadata": {
        "id": "yg3PXO8DApyN"
      },
      "outputs": [],
      "source": [
        "from PIL import ImageOps\n",
        "\n",
        "def img_preprocess(img):\n",
        "    img = Image.fromarray(np.uint8(img))\n",
        "    img4eq = ImageOps.equalize(img)\n",
        "    img4eq_array = np.array(img4eq)\n",
        "    return (img, img4eq, img4eq_array)"
      ]
    },
    {
      "cell_type": "code",
      "execution_count": null,
      "metadata": {
        "id": "De8iXA3wApyO"
      },
      "outputs": [],
      "source": [
        "def show_hist2(tmp_img, img4eq, img4_array, img4eq_array):\n",
        "    f=plt.figure(figsize=(14, 10))\n",
        "    f.add_subplot(2, 2, 1)\n",
        "    plt.imshow(tmp_img, cmap='gray')\n",
        "    plt.title('original Image', fontsize=20)\n",
        "    f.add_subplot(2, 2, 2)\n",
        "    plt.imshow(img4eq, cmap='gray')\n",
        "    plt.title('equalized Image', fontsize=20)\n",
        "    f.add_subplot(2, 2, 3)\n",
        "    plt.hist(img4_array.flatten(), bins = 256, alpha=0.5)\n",
        "    plt.title('histogram', fontsize=20)\n",
        "    plt.xlabel('gray levels', fontsize = 15)\n",
        "    plt.ylabel('pixel count', fontsize = 15)\n",
        "    f.add_subplot(2, 2, 4)\n",
        "    plt.hist(img4eq_array.flatten(), bins = 256, alpha=0.5)\n",
        "    plt.title('histogram', fontsize=20)\n",
        "    plt.xlabel('gray levels', fontsize = 15)\n",
        "    plt.ylabel('pixel count', fontsize = 15)\n",
        "    plt.show()"
      ]
    },
    {
      "cell_type": "code",
      "execution_count": null,
      "metadata": {
        "id": "EtseO4u8ApyO"
      },
      "outputs": [],
      "source": [
        "result_contrast = img_preprocess(tmp_img)"
      ]
    },
    {
      "cell_type": "code",
      "execution_count": null,
      "metadata": {
        "scrolled": false,
        "id": "7P4LM937ApyP"
      },
      "outputs": [],
      "source": [
        "show_hist2(tmp_img, result_contrast[1], tmp_img, result_contrast[2])"
      ]
    },
    {
      "cell_type": "code",
      "execution_count": null,
      "metadata": {
        "id": "bnFJFKf7ApyP"
      },
      "outputs": [],
      "source": [
        "import PIL, PIL.ImageOps"
      ]
    },
    {
      "cell_type": "code",
      "execution_count": null,
      "metadata": {
        "id": "U5p9JNYkApyQ"
      },
      "outputs": [],
      "source": [
        "img = Image.fromarray(np.uint8(tmp_img))\n",
        "result_img = PIL.ImageOps.autocontrast(img, cutoff=1)"
      ]
    },
    {
      "cell_type": "code",
      "execution_count": null,
      "metadata": {
        "id": "OdB2WxDSApyQ"
      },
      "outputs": [],
      "source": [
        "show_hist(result_img)"
      ]
    },
    {
      "cell_type": "code",
      "execution_count": null,
      "metadata": {
        "id": "KPkV37QBApyQ"
      },
      "outputs": [],
      "source": [
        "denoised_img = cv2.fastNlMeansDenoisingColored(np.array(result_img), None, 5, 5, 5, 5)"
      ]
    },
    {
      "cell_type": "code",
      "execution_count": null,
      "metadata": {
        "id": "lWEp5VePApyQ"
      },
      "outputs": [],
      "source": [
        "show_hist(denoised_img)"
      ]
    },
    {
      "cell_type": "code",
      "execution_count": null,
      "metadata": {
        "id": "BP2v4ltgApyR"
      },
      "outputs": [],
      "source": [
        "img2 = Image.fromarray(np.uint8(denoised_img))\n",
        "Sharpness_image = PIL.ImageEnhance.Sharpness(img2).enhance(1.2)"
      ]
    },
    {
      "cell_type": "code",
      "execution_count": null,
      "metadata": {
        "scrolled": false,
        "id": "FCqbMYJ7ApyR"
      },
      "outputs": [],
      "source": [
        "show_hist(Sharpness_image)"
      ]
    },
    {
      "cell_type": "code",
      "execution_count": null,
      "metadata": {
        "id": "fqMeNRsfApyS"
      },
      "outputs": [],
      "source": [
        "type(Sharpness_image)"
      ]
    },
    {
      "cell_type": "code",
      "execution_count": null,
      "metadata": {
        "id": "8Dsq3Dz2ApyS"
      },
      "outputs": [],
      "source": [
        "def img_preprocess(img):\n",
        "    img = Image.fromarray(np.uint8(img))\n",
        "    result_img = PIL.ImageOps.autocontrast(img, cutoff=1)\n",
        "    denoised_img = cv2.fastNlMeansDenoisingColored(np.array(result_img), None, 5, 5, 5, 5)\n",
        "    img2 = Image.fromarray(np.uint8(denoised_img))\n",
        "    Sharpness_image = PIL.ImageEnhance.Sharpness(img2).enhance(1.2)\n",
        "    return np.array(Sharpness_image)"
      ]
    },
    {
      "cell_type": "markdown",
      "metadata": {
        "id": "AsScGmliaF8G"
      },
      "source": [
        "### Custom Dataset & DataLoader"
      ]
    },
    {
      "cell_type": "code",
      "execution_count": null,
      "metadata": {
        "id": "9oxCc79XApyT"
      },
      "outputs": [],
      "source": [
        "class SatelliteDataset(Dataset):\n",
        "    def __init__(self, dataset, lst_path, transform=None, infer=False):\n",
        "        self.data = dataset\n",
        "        self.transform = transform\n",
        "        self.infer = infer\n",
        "        self.lst_path = lst_path\n",
        "\n",
        "    def __len__(self):\n",
        "        return len(self.data)\n",
        "\n",
        "    def __getitem__(self, idx):\n",
        "        img_path = self.lst_path[0] + self.data.iloc[idx, 0]\n",
        "        image = cv2.imread(img_path)\n",
        "        image = cv2.cvtColor(image, cv2.COLOR_BGR2RGB)\n",
        "\n",
        "        if self.infer:\n",
        "            if self.transform:\n",
        "                image = img_preprocess(image)\n",
        "                image = self.transform(image=image)['image']\n",
        "            return image\n",
        "\n",
        "        mask_path = self.lst_path[1] + self.data.iloc[idx, 1]\n",
        "        mask = cv2.imread(mask_path, 0)\n",
        "\n",
        "        if self.transform:\n",
        "            image = img_preprocess(image)\n",
        "            augmented = self.transform(image=image, mask=mask)\n",
        "            image = augmented['image']\n",
        "            mask = augmented['mask']\n",
        "\n",
        "        return image, mask"
      ]
    },
    {
      "cell_type": "code",
      "execution_count": null,
      "metadata": {
        "id": "bkUkhD6-ApyU"
      },
      "outputs": [],
      "source": [
        "transform = A.Compose([\n",
        "    A.Normalize(),        # 기존\n",
        "    ToTensorV2()          # 기존\n",
        "])"
      ]
    },
    {
      "cell_type": "code",
      "execution_count": null,
      "metadata": {
        "id": "H0kZ1gJHApyU"
      },
      "outputs": [],
      "source": [
        "trainset = SatelliteDataset(dataset = df_train, transform=transform, lst_path = [train_img_dir, train_mask_dir])\n",
        "validset = SatelliteDataset(dataset = df_valid, transform=transform, lst_path = [valid_img_dir, valid_mask_dir])"
      ]
    },
    {
      "cell_type": "code",
      "execution_count": null,
      "metadata": {
        "id": "eAtvvUOxXKjJ"
      },
      "outputs": [],
      "source": [
        "train_dataloader = DataLoader(trainset, batch_size=16, shuffle=True, num_workers=48)\n",
        "valid_dataloader = DataLoader(validset, batch_size=16, shuffle=False, num_workers=48)"
      ]
    },
    {
      "cell_type": "code",
      "execution_count": null,
      "metadata": {
        "id": "CxXnDxiQApyV"
      },
      "outputs": [],
      "source": [
        "valid_dataloader_2 = DataLoader(validset, batch_size=32, shuffle=False, num_workers=48)"
      ]
    },
    {
      "cell_type": "markdown",
      "metadata": {
        "id": "zg5z12bIcg8o"
      },
      "source": [
        "# 성능 평가"
      ]
    },
    {
      "cell_type": "markdown",
      "metadata": {
        "id": "59AT3w7pcMuT"
      },
      "source": [
        "**성능 평가를 위해 valid set에 대해서 결과 확인**"
      ]
    },
    {
      "cell_type": "markdown",
      "metadata": {
        "id": "zJdtQIL8WnKq"
      },
      "source": [
        "### 1) true_mask vs pred_mask 이미지 비교"
      ]
    },
    {
      "cell_type": "code",
      "execution_count": null,
      "metadata": {
        "id": "0_rifhwkApyo"
      },
      "outputs": [],
      "source": [
        "import numpy as np\n",
        "import pandas as pd\n",
        "from typing import List, Union\n",
        "from joblib import Parallel, delayed"
      ]
    },
    {
      "cell_type": "code",
      "execution_count": null,
      "metadata": {
        "id": "Du7RN33sdKot"
      },
      "outputs": [],
      "source": [
        "import matplotlib.pyplot as plt\n",
        "\n",
        "def display(display_list):\n",
        "    plt.figure(figsize=(15, 15))\n",
        "\n",
        "    title = ['Input Image', 'True Mask', 'Predicted Mask']\n",
        "\n",
        "    for i in range(len(display_list)):\n",
        "        plt.subplot(1, len(display_list), i+1)\n",
        "        plt.title(title[i])\n",
        "        if i == 0:\n",
        "            img = cv2.imread(display_list[i])\n",
        "            img = cv2.cvtColor(img, cv2.COLOR_BGR2RGB)\n",
        "            img = img.astype(np.uint8).copy()\n",
        "        if i == 1:\n",
        "            img = cv2.imread(display_list[i], 0)\n",
        "        if i == 2:\n",
        "#             img = rle_decode(display_list[i], shape = (224, 224)) # shape 설정\n",
        "            img = display_list[i]\n",
        "\n",
        "        plt.imshow(img)\n",
        "        plt.axis('off')\n",
        "    plt.show()\n",
        "\n",
        "idx = 1000\n",
        "\n",
        "valid_img_path_idx = valid_img_dir + df_valid['img_path'][idx]\n",
        "valid_mask_path_idx = valid_mask_dir + df_valid['mask_path'][idx]\n",
        "valid_pred_mask_idx = tmp_pred4[idx]\n",
        "\n",
        "display_list = [valid_img_path_idx, valid_mask_path_idx, valid_pred_mask_idx]\n",
        "display(display_list)"
      ]
    },
    {
      "cell_type": "code",
      "execution_count": null,
      "metadata": {
        "id": "xx_OHok6Apyp"
      },
      "outputs": [],
      "source": [
        "weighted_preds_test = np.where(weighted_preds > 0.5, 1, 0)"
      ]
    },
    {
      "cell_type": "code",
      "execution_count": null,
      "metadata": {
        "id": "PiFHHlQBApyr"
      },
      "outputs": [],
      "source": [
        "idx = 5\n",
        "\n",
        "valid_img_path_idx = valid_img_dir + df_valid['img_path'][idx]\n",
        "valid_mask_path_idx = valid_mask_dir + df_valid['mask_path'][idx]"
      ]
    },
    {
      "cell_type": "code",
      "execution_count": null,
      "metadata": {
        "id": "usisRyn-Apys"
      },
      "outputs": [],
      "source": [
        "display_list = [valid_img_path_idx, valid_mask_path_idx, tmp_pred4[idx]]\n",
        "display(display_list)"
      ]
    },
    {
      "cell_type": "markdown",
      "metadata": {
        "id": "l4yZ5ZlOWoU5"
      },
      "source": [
        "### 2) Dice Score"
      ]
    },
    {
      "cell_type": "code",
      "execution_count": null,
      "metadata": {
        "id": "LJm_zsEVfG8b"
      },
      "outputs": [],
      "source": [
        "def dice_score(prediction: np.array, ground_truth: np.array, smooth=1e-7) -> float:\n",
        "    '''\n",
        "    Calculate Dice Score between two binary masks.\n",
        "    '''\n",
        "    intersection = np.sum(prediction * ground_truth)\n",
        "    return (2.0 * intersection + smooth) / (np.sum(prediction) + np.sum(ground_truth) + smooth)\n",
        "\n",
        "\n",
        "def calculate_dice_scores(pred_mask, gt_mask, img_shape=(224, 224)) -> List[float]:\n",
        "    '''\n",
        "    Calculate Dice scores for a dataset.\n",
        "    '''\n",
        "\n",
        "    def calculate_dice(pred_mask, gt_mask):\n",
        "        pred_mask = pred_mask\n",
        "        gt_mask = gt_mask\n",
        "\n",
        "\n",
        "        if np.sum(gt_mask) > 0 or np.sum(pred_mask) > 0:\n",
        "            return dice_score(pred_mask, gt_mask)\n",
        "        else:\n",
        "            return None  # No valid masks found, return None\n",
        "\n",
        "\n",
        "    dice_scores = Parallel(n_jobs=-1)(\n",
        "        delayed(calculate_dice)(pred, gt) for pred, gt in zip(pred_mask, gt_mask)\n",
        "    )\n",
        "\n",
        "\n",
        "    dice_scores = [score for score in dice_scores if score is not None]  # Exclude None values\n",
        "\n",
        "\n",
        "    return np.mean(dice_scores)"
      ]
    },
    {
      "cell_type": "code",
      "execution_count": null,
      "metadata": {
        "id": "8vUfwAUDt7J0"
      },
      "outputs": [],
      "source": [
        "calculate_dice_scores(tmp_pred4, valid_masks, img_shape=(224, 224))"
      ]
    },
    {
      "cell_type": "markdown",
      "metadata": {
        "id": "PydI60pCMV0F"
      },
      "source": [
        "### 3) Class 별 IOU"
      ]
    },
    {
      "cell_type": "code",
      "execution_count": null,
      "metadata": {
        "id": "JHGANFyJApyu"
      },
      "outputs": [],
      "source": [
        "valid_masks.shape"
      ]
    },
    {
      "cell_type": "code",
      "execution_count": null,
      "metadata": {
        "id": "-ZjvrtQVApyu"
      },
      "outputs": [],
      "source": [
        "import numpy as np\n",
        "\n",
        "def calculate_iou(outputs, labels, num_classes):\n",
        "    iou_per_class = np.zeros(num_classes)\n",
        "\n",
        "    for class_idx in range(num_classes):\n",
        "        # 클래스별 True Positive, False Positive, False Negative 계산\n",
        "        true_positive = np.sum(np.logical_and(outputs == class_idx, labels == class_idx))\n",
        "        false_positive = np.sum(np.logical_and(outputs == class_idx, labels != class_idx))\n",
        "        false_negative = np.sum(np.logical_and(outputs != class_idx, labels == class_idx))\n",
        "\n",
        "        # 클래스별 IoU 계산\n",
        "        iou = true_positive / (true_positive + false_positive + false_negative + 1e-10)\n",
        "        iou_per_class[class_idx] = iou\n",
        "\n",
        "    return iou_per_class\n",
        "\n",
        "# 예시 사용\n",
        "outputs = tmp_pred4\n",
        "labels = valid_masks\n",
        "num_classes = 2\n",
        "iou_per_class = calculate_iou(outputs, labels, num_classes)\n",
        "\n",
        "print(\"클래스별 IoU:\", iou_per_class)"
      ]
    },
    {
      "cell_type": "code",
      "execution_count": null,
      "metadata": {
        "id": "drVZ9YBWimB6"
      },
      "outputs": [],
      "source": [
        "totaliou = iou_per_class"
      ]
    },
    {
      "cell_type": "code",
      "execution_count": null,
      "metadata": {
        "id": "F8V3_cT_co5S"
      },
      "outputs": [],
      "source": [
        "def printClassScores(totaliou):\n",
        "    label = ['background', 'building']\n",
        "    print('classes          IoU      nIoU')\n",
        "    print('--------------------------------')\n",
        "    for i, iou in enumerate(totaliou):\n",
        "        labelName = label[i]\n",
        "        iouStr = f'{iou:>5.3f}'\n",
        "        niouStr = 'empty'\n",
        "        print('{:<14}: '.format(labelName) + iouStr + '    ' + niouStr)\n",
        "    print('--------------------------------')\n",
        "    print(f'Score Average : {(np.sum(totaliou) / 2):>5.3f}' + '    ' + niouStr)"
      ]
    },
    {
      "cell_type": "code",
      "execution_count": null,
      "metadata": {
        "id": "a8FbFF_djRwC"
      },
      "outputs": [],
      "source": [
        "printClassScores(totaliou)"
      ]
    }
  ],
  "metadata": {
    "accelerator": "GPU",
    "colab": {
      "gpuType": "T4",
      "machine_shape": "hm",
      "private_outputs": true,
      "provenance": []
    },
    "kernelspec": {
      "display_name": "Python 3",
      "language": "python",
      "name": "python3"
    },
    "language_info": {
      "codemirror_mode": {
        "name": "ipython",
        "version": 3
      },
      "file_extension": ".py",
      "mimetype": "text/x-python",
      "name": "python",
      "nbconvert_exporter": "python",
      "pygments_lexer": "ipython3",
      "version": "3.8.5"
    }
  },
  "nbformat": 4,
  "nbformat_minor": 0
}