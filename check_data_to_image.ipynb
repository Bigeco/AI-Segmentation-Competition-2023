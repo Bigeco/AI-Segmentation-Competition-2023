{
  "nbformat": 4,
  "nbformat_minor": 0,
  "metadata": {
    "colab": {
      "private_outputs": true,
      "provenance": [],
      "gpuType": "T4"
    },
    "kernelspec": {
      "name": "python3",
      "display_name": "Python 3"
    },
    "language_info": {
      "name": "python"
    },
    "accelerator": "GPU"
  },
  "cells": [
    {
      "cell_type": "markdown",
      "source": [
        "[![Open In Colab](https://colab.research.google.com/assets/colab-badge.svg)](https://colab.research.google.com/github/Bigeco/AI_Segmentation_Competition_2023/blob/master/notebooks/check_data_to_image.ipynb)"
      ],
      "metadata": {
        "id": "zss8fe54iUfo"
      }
    },
    {
      "cell_type": "code",
      "execution_count": null,
      "metadata": {
        "id": "7KnL34PAIwnw"
      },
      "outputs": [],
      "source": [
        "from google.colab import drive\n",
        "drive.mount('/gdrive', force_remount=True)"
      ]
    },
    {
      "cell_type": "code",
      "source": [
        "from google.colab import drive\n",
        "drive.mount('/content/drive')"
      ],
      "metadata": {
        "id": "WwqrPWXyJNIX"
      },
      "execution_count": null,
      "outputs": []
    },
    {
      "cell_type": "code",
      "source": [
        "import os\n",
        "import cv2\n",
        "import pandas as pd\n",
        "import numpy as np\n",
        "\n",
        "import torch\n",
        "import torch.nn as nn\n",
        "from torch.utils.data import Dataset, DataLoader\n",
        "from torchvision import transforms\n",
        "\n",
        "from tqdm import tqdm\n",
        "import albumentations as A\n",
        "from albumentations.pytorch import ToTensorV2\n",
        "\n",
        "from IPython.display import Image, display\n",
        "\n",
        "from tensorflow.keras.preprocessing.image import load_img\n",
        "import PIL\n",
        "from PIL import ImageOps"
      ],
      "metadata": {
        "id": "xeq8In_HJpyo"
      },
      "execution_count": null,
      "outputs": []
    },
    {
      "cell_type": "code",
      "source": [
        "# Pytorch에서 gpu를 사용하는 방법.\n",
        "device = torch.device(\"cuda\" if torch.cuda.is_available() else \"cpu\")"
      ],
      "metadata": {
        "id": "X9JuPbrOJsLH"
      },
      "execution_count": null,
      "outputs": []
    },
    {
      "cell_type": "code",
      "source": [
        "# RLE 디코딩 함수\n",
        "def rle_decode(mask_rle, shape):\n",
        "    s = mask_rle.split()\n",
        "    starts, lengths = [np.asarray(x, dtype=int) for x in (s[0:][::2], s[1:][::2])]\n",
        "    starts -= 1\n",
        "    ends = starts + lengths\n",
        "    img = np.zeros(shape[0] * shape[1], dtype=np.uint8)\n",
        "    for lo, hi in zip(starts, ends):\n",
        "        img[lo:hi] = 1\n",
        "    return img.reshape(shape)\n",
        "\n",
        "\n",
        "# RLE 인코딩 함수\n",
        "def rle_encode(mask):\n",
        "    pixels = mask.flatten()\n",
        "    pixels = np.concatenate([[0], pixels, [0]])\n",
        "    runs = np.where(pixels[1:] != pixels[:-1])[0] + 1\n",
        "    runs[1::2] -= runs[::2]\n",
        "    return \" \".join(str(x) for x in runs)"
      ],
      "metadata": {
        "id": "izq3vMcZJtnr"
      },
      "execution_count": null,
      "outputs": []
    },
    {
      "cell_type": "code",
      "source": [
        "class SatelliteDataset(Dataset):\n",
        "    def __init__(self, csv_file, transform=None, infer=False):\n",
        "        self.data = pd.read_csv(csv_file)\n",
        "        self.transform = transform\n",
        "        self.infer = infer\n",
        "\n",
        "    def __len__(self):\n",
        "        return len(self.data)\n",
        "\n",
        "    def __getitem__(self, idx):\n",
        "        img_path = self.data.iloc[idx, 1]\n",
        "        image = cv2.imread(img_path)\n",
        "        image = cv2.cvtColor(image, cv2.COLOR_BGR2RGB)\n",
        "\n",
        "        if self.infer:\n",
        "            if self.transform:\n",
        "                image = self.transform(image=image)[\"image\"]\n",
        "            return image\n",
        "\n",
        "        mask_rle = self.data.iloc[idx, 2]\n",
        "        mask = rle_decode(mask_rle, (image.shape[0], image.shape[1]))\n",
        "\n",
        "        if self.transform:\n",
        "            augmented = self.transform(image=image, mask=mask)\n",
        "            image = augmented[\"image\"]\n",
        "            mask = augmented[\"mask\"]\n",
        "\n",
        "        return image, mask"
      ],
      "metadata": {
        "id": "yt4F-EcaJwLi"
      },
      "execution_count": null,
      "outputs": []
    },
    {
      "cell_type": "code",
      "source": [
        "# Data Loader\n",
        "transform = A.Compose([A.Resize(224, 224), A.Normalize(), ToTensorV2()])\n",
        "\n",
        "dataset = SatelliteDataset(csv_file=\"/content/drive/MyDrive/sw_ai/train.csv\", transform=transform)\n",
        "dataloader = DataLoader(dataset, batch_size=16, shuffle=True, num_workers=4)"
      ],
      "metadata": {
        "id": "SrLNGrL-Jypf"
      },
      "execution_count": null,
      "outputs": []
    },
    {
      "cell_type": "markdown",
      "source": [
        "---"
      ],
      "metadata": {
        "id": "5_njMVPuf56Y"
      }
    },
    {
      "cell_type": "markdown",
      "source": [
        "# 1. 변수 input_img_paths, target_img_mask_rle_decode 정의\n",
        "\n",
        "- `input_img_paths` | input_path 그대로 적용하면 안열리므로 바꿔줌.\n",
        "- `target_img_mask_rle_decode` | mask_rel 데이터에서 이미지로 만들기 위해 binary 수로 바꿔야 한다. 그래서 decode을 적용하고 list에 삽입"
      ],
      "metadata": {
        "id": "ZZrP_35KeRin"
      }
    },
    {
      "cell_type": "code",
      "source": [
        "dataset.data"
      ],
      "metadata": {
        "id": "uQDEfxbkcMRR"
      },
      "execution_count": null,
      "outputs": []
    },
    {
      "cell_type": "code",
      "source": [
        "train_dir = \"/content/drive/MyDrive/sw_ai/train.csv\"\n",
        "test_dir = \"/content/drive/MyDrive/sw_ai/test.csv\"\n",
        "img_size = (1024, 1024)\n",
        "# num_classes = 2\n",
        "# batch_size ="
      ],
      "metadata": {
        "id": "htC5wzbzKJkV"
      },
      "execution_count": null,
      "outputs": []
    },
    {
      "cell_type": "code",
      "source": [
        "input_img_paths = dataset.data[\"img_path\"]\n",
        "input_img_paths = [\"/content/drive/MyDrive/sw_ai/\" + path[2:] for path in input_img_paths]\n",
        "target_img_mask_rle_decode = [\n",
        "    rle_decode(dataset.data[\"mask_rle\"][i], img_size) for i in range(10)\n",
        "]  # RLE 인코딩 된 예측 이진 마스크"
      ],
      "metadata": {
        "id": "y4R3tuPMKGPP"
      },
      "execution_count": null,
      "outputs": []
    },
    {
      "cell_type": "code",
      "source": [
        "rle_decode(dataset.data[\"mask_rle\"][0], img_size)"
      ],
      "metadata": {
        "id": "dEXGlbyrcXwf"
      },
      "execution_count": null,
      "outputs": []
    },
    {
      "cell_type": "code",
      "source": [
        "# check image_size\n",
        "# im = cv2.imread(input_img_paths[0], 0)\n",
        "# print(im.shape)"
      ],
      "metadata": {
        "id": "VtQ7Ul0gJ0Xm"
      },
      "execution_count": null,
      "outputs": []
    },
    {
      "cell_type": "markdown",
      "source": [
        "---"
      ],
      "metadata": {
        "id": "YUXY-kCmf27v"
      }
    },
    {
      "cell_type": "markdown",
      "source": [
        "# 2. 이미지 출력\n",
        "- input image 출력 시 `IPython.display` 의 `Image`, `display` 사용\n",
        "- target image 출력 시 `PIL`의 `Image`, 그리고 `struct` 사용  (위 Image와 이름이 동일해서 as Imagee로 씀)"
      ],
      "metadata": {
        "id": "oVfgzcq4fQPc"
      }
    },
    {
      "cell_type": "code",
      "source": [
        "# input image 출력\n",
        "display(Image(filename = input_img_paths[0]))"
      ],
      "metadata": {
        "id": "MN9zEydkLSAF"
      },
      "execution_count": null,
      "outputs": []
    },
    {
      "cell_type": "code",
      "source": [
        "from PIL import Image as Imagee\n",
        "import struct"
      ],
      "metadata": {
        "id": "B-LskHSxNJFA"
      },
      "execution_count": null,
      "outputs": []
    },
    {
      "cell_type": "code",
      "source": [
        "size = 1024, 1024\n",
        "arr = sum(target_img_mask_rle_decode[0].tolist(), [])\n",
        "data = struct.pack('B'*len(arr), *[pixel*255 for pixel in arr])\n",
        "img = Imagee.frombuffer('L', size, data)\n",
        "img.show()"
      ],
      "metadata": {
        "id": "whfN1kljdKDT"
      },
      "execution_count": null,
      "outputs": []
    }
  ]
}