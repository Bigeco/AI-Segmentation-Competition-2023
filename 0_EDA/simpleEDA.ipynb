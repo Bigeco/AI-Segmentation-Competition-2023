{
  "nbformat": 4,
  "nbformat_minor": 0,
  "metadata": {
    "colab": {
      "private_outputs": true,
      "provenance": [],
      "gpuType": "T4",
      "machine_shape": "hm"
    },
    "kernelspec": {
      "name": "python3",
      "display_name": "Python 3"
    },
    "language_info": {
      "name": "python"
    },
    "accelerator": "GPU"
  },
  "cells": [
    {
      "cell_type": "markdown",
      "source": [
        "# EDA"
      ],
      "metadata": {
        "id": "joaZ5MRTbHMA"
      }
    },
    {
      "cell_type": "markdown",
      "source": [
        "## 1) Pixel Count Graph abount each image"
      ],
      "metadata": {
        "id": "p9cLin9ot1ce"
      }
    },
    {
      "cell_type": "code",
      "source": [
        "import matplotlib.pyplot as plt"
      ],
      "metadata": {
        "id": "22vEHOOegYzO"
      },
      "execution_count": null,
      "outputs": []
    },
    {
      "cell_type": "code",
      "source": [
        "# input image size   : 1024 x 1024 x 3\n",
        "# variable 'dataset' : object of SatelliteDataset\n",
        "\n",
        "img_size = (1024, 1024)\n",
        "decode_data = [rle_decode(dataset.data[\"mask_rle\"][i], img_size) for i in range(len(dataset.data[\"mask_rle\"]))]"
      ],
      "metadata": {
        "id": "jmEqr4Xpbsvu"
      },
      "execution_count": null,
      "outputs": []
    },
    {
      "cell_type": "code",
      "source": [
        "lst_nonzero_count = [np.count_nonzero(decode_data[i]) for i in range(len(dataset.data[\"mask_rle\"]))]\n",
        "lst_zero_count = [decode_data[0].size - count for count in lst_nonzero_count]"
      ],
      "metadata": {
        "id": "DHt2NFfdcYUb"
      },
      "execution_count": null,
      "outputs": []
    },
    {
      "cell_type": "code",
      "source": [
        "decode_data[0].size"
      ],
      "metadata": {
        "id": "bF5X3mubjZnb"
      },
      "execution_count": null,
      "outputs": []
    },
    {
      "cell_type": "code",
      "source": [
        "fig, ax = plt.subplots()\n",
        "\n",
        "sizes, colors = 10, 'red'\n",
        "x, y = lst_nonzero_count, lst_zero_count\n",
        "\n",
        "plt.xlabel('nonzero_count')\n",
        "plt.ylabel('zero_count')\n",
        "\n",
        "plt.xlim([min(lst_nonzero_count)-10000, max(lst_nonzero_count)+10000])\n",
        "plt.ylim([min(lst_zero_count)-10000, max(lst_zero_count)+10000])\n",
        "\n",
        "ax.scatter(x, y, s=sizes, c=colors)\n",
        "\n",
        "plt.show()"
      ],
      "metadata": {
        "id": "1hk3lSyagbF6"
      },
      "execution_count": null,
      "outputs": []
    },
    {
      "cell_type": "markdown",
      "source": [
        "**결과 해석**\n",
        "\n",
        "개수 뿐만 아니라 위치도 요인으로 작용하겠지만,\n",
        "위치를 제외한 개수만으로 판단했을 때, 상대적으로 `nonzero_count(건물 pixel 개수)가 크며 zero_count(배경 pixel 개수)가 적은 데이터` 가 부족함을 알 수 있다."
      ],
      "metadata": {
        "id": "SDTzxSGznkiI"
      }
    },
    {
      "cell_type": "markdown",
      "source": [
        "## 2) Pixel Distribution"
      ],
      "metadata": {
        "id": "FlAx7E5KrcDY"
      }
    },
    {
      "cell_type": "markdown",
      "source": [
        "Training Set의 2가지 Class(0, 1)의 Pixel Distribution을 시각화함."
      ],
      "metadata": {
        "id": "KN967ILfrmHk"
      }
    },
    {
      "cell_type": "code",
      "source": [
        "zero_count = sum(lst_zero_count)\n",
        "nonzero_count = sum(lst_nonzero_count)"
      ],
      "metadata": {
        "id": "tY1s8Q6Kr6cD"
      },
      "execution_count": null,
      "outputs": []
    },
    {
      "cell_type": "code",
      "source": [
        "x = [0, 1]\n",
        "y = [zero_count, nonzero_count]\n",
        "\n",
        "# plot\n",
        "fig, ax = plt.subplots()\n",
        "ax.bar(x, y, width=1, edgecolor=\"white\", linewidth=0.7)\n",
        "\n",
        "plt.xticks(x)\n",
        "plt.xlabel('class')\n",
        "plt.ylabel('count')\n",
        "\n",
        "plt.show()"
      ],
      "metadata": {
        "id": "eR-b8Npgr2Yc"
      },
      "execution_count": null,
      "outputs": []
    },
    {
      "cell_type": "markdown",
      "source": [
        "**결과 해석**\n",
        "\n",
        "Class-Imbalance (클래스 불균형)이 굉장히 심한 데이터셋이다.\n",
        "이 건물이미지 데이터의 경우 배경 pixel 개수가 더 많은 것을 확인할 수 있다.  "
      ],
      "metadata": {
        "id": "3FcWPoE2vR46"
      }
    }
  ]
}