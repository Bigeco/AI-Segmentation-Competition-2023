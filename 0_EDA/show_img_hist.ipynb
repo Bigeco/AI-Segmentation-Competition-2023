{
  "cells": [
    {
      "cell_type": "markdown",
      "metadata": {
        "id": "LLoUbbWfnnTQ"
      },
      "source": [
        "# 0. 초기 세팅"
      ]
    },
    {
      "cell_type": "code",
      "execution_count": null,
      "metadata": {
        "id": "-LjVNJocZ2IR"
      },
      "outputs": [],
      "source": [
        "import os\n",
        "import cv2\n",
        "import pandas as pd\n",
        "import numpy as np\n",
        "\n",
        "import torch\n",
        "import torch.nn as nn\n",
        "from torch.utils.data import Dataset, DataLoader\n",
        "from torchvision import transforms\n",
        "\n",
        "from tqdm import tqdm\n",
        "import albumentations as A\n",
        "from albumentations.pytorch import ToTensorV2\n",
        "\n",
        "# Pytorch에서 gpu를 사용하는 방법.\n",
        "device = torch.device(\"cuda:4\" if torch.cuda.is_available() else \"cpu\")\n",
        "torch.cuda.set_device(device)\n",
        "# print('Current cuda device ', torch.cuda.current_device())"
      ]
    },
    {
      "cell_type": "code",
      "execution_count": null,
      "metadata": {
        "id": "yaXGO6iPApx4"
      },
      "outputs": [],
      "source": [
        "import PIL"
      ]
    },
    {
      "cell_type": "code",
      "execution_count": null,
      "metadata": {
        "id": "eSifeRI5NZIR"
      },
      "outputs": [],
      "source": [
        "from matplotlib import pyplot as plt\n",
        "import tifffile as tiff\n",
        "from PIL import Image\n",
        "import random"
      ]
    },
    {
      "cell_type": "code",
      "execution_count": null,
      "metadata": {
        "id": "V0Ucurv9N9xj",
        "scrolled": true
      },
      "outputs": [],
      "source": [
        "import tensorflow as tf\n",
        "from tensorflow import keras\n",
        "from keras.metrics import MeanIoU"
      ]
    },
    {
      "cell_type": "code",
      "execution_count": null,
      "metadata": {
        "id": "ZwsURYIwApx7"
      },
      "outputs": [],
      "source": [
        "from keras.utils import normalize\n",
        "from keras.metrics import MeanIoU"
      ]
    },
    {
      "cell_type": "code",
      "execution_count": null,
      "metadata": {
        "id": "AZaPwDl9Apx8"
      },
      "outputs": [],
      "source": [
        "from keras import backend as K"
      ]
    },
    {
      "cell_type": "code",
      "execution_count": null,
      "metadata": {
        "id": "qh38u3PPApx9"
      },
      "outputs": [],
      "source": [
        "import tensorflow as tf\n",
        "import segmentation_models as sm\n",
        "import segmentation_models_pytorch as smp\n",
        "from segmentation_models_pytorch.encoders import get_preprocessing_fn\n",
        "\n",
        "import glob\n",
        "import cv2\n",
        "import os\n",
        "import numpy as np\n",
        "from matplotlib import pyplot as plt\n",
        "import keras\n",
        "\n",
        "from keras.utils import normalize\n",
        "from keras.metrics import MeanIoU"
      ]
    },
    {
      "cell_type": "code",
      "execution_count": null,
      "metadata": {
        "id": "6kjqB-gkApx-"
      },
      "outputs": [],
      "source": [
        "os.environ[\"CUDA_DEVICE_ORDER\"] = \"PCI_BUS_ID\"\n",
        "os.environ[\"CUDA_VISIBLE_DEVICES\"] = \"4\""
      ]
    },
    {
      "cell_type": "code",
      "execution_count": null,
      "metadata": {
        "id": "vcspYaHHKoOq"
      },
      "outputs": [],
      "source": [
        "import random\n",
        "\n",
        "def seed_everything(seed):\n",
        "    random.seed(seed)\n",
        "    os.environ['PYTHONHASHSEED'] = str(seed)\n",
        "    np.random.seed(seed)\n",
        "\n",
        "seed_everything(42) # Seed 고정"
      ]
    },
    {
      "cell_type": "code",
      "execution_count": null,
      "metadata": {
        "id": "HJmBQYICApyB"
      },
      "outputs": [],
      "source": [
        "torch.cuda.memory_allocated()"
      ]
    },
    {
      "cell_type": "code",
      "execution_count": null,
      "metadata": {
        "id": "wSsvIZZvApyD"
      },
      "outputs": [],
      "source": [
        "print(torch.cuda.is_available())\n",
        "print(torch.cuda.device_count())\n",
        "print(torch.backends.cudnn.enabled)\n",
        "print(torch.backends.cudnn.version())"
      ]
    },
    {
      "cell_type": "markdown",
      "metadata": {
        "id": "NFa1PN8IApyL"
      },
      "source": [
        "# 1. 이미지 분석 (hist)"
      ]
    },
    {
      "cell_type": "code",
      "execution_count": null,
      "metadata": {
        "id": "mPGCcJpcApyL"
      },
      "outputs": [],
      "source": [
        "from PIL import Image"
      ]
    },
    {
      "cell_type": "code",
      "execution_count": null,
      "metadata": {
        "id": "phFMTUnnApyM"
      },
      "outputs": [],
      "source": [
        "def show_hist(img):\n",
        "    img_array = np.array(img)\n",
        "\n",
        "    f = plt.figure(figsize=(18, 8))\n",
        "    f.add_subplot(1, 2, 1)\n",
        "    plt.imshow(img_array, cmap='gray')\n",
        "    plt.title('image', fontsize=20)\n",
        "    f.add_subplot(1, 2, 2)\n",
        "    plt.hist(img_array.flatten(), bins = 256, alpha=0.5)\n",
        "    plt.title('histogram', fontsize=20)\n",
        "    plt.xlabel('gray levels', fontsize = 15)\n",
        "    plt.ylabel('pixel count', fontsize = 15)\n",
        "    plt.show()"
      ]
    },
    {
      "cell_type": "code",
      "execution_count": null,
      "metadata": {
        "id": "6safVuRfApyM"
      },
      "outputs": [],
      "source": [
        "tmp_img_path = train_img_dir + data_train_img[0]\n",
        "tmp_img = valid_images[5]"
      ]
    },
    {
      "cell_type": "code",
      "execution_count": null,
      "metadata": {
        "id": "dXWobSgBApyN"
      },
      "outputs": [],
      "source": [
        "show_hist(tmp_img)"
      ]
    },
    {
      "cell_type": "code",
      "execution_count": null,
      "metadata": {
        "id": "b-xqEsdwApyN"
      },
      "outputs": [],
      "source": [
        "show_hist(tmp_img)\n",
        "\n",
        "transform = A.Compose([A.Normalize()])\n",
        "tmp_img2 = transform(image=tmp_img)['image']\n",
        "show_hist(tmp_img2)"
      ]
    },
    {
      "cell_type": "code",
      "execution_count": null,
      "metadata": {
        "id": "yg3PXO8DApyN"
      },
      "outputs": [],
      "source": [
        "from PIL import ImageOps\n",
        "\n",
        "def img_preprocess(img):\n",
        "    img = Image.fromarray(np.uint8(img))\n",
        "    img4eq = ImageOps.equalize(img)\n",
        "    img4eq_array = np.array(img4eq)\n",
        "    return (img, img4eq, img4eq_array)"
      ]
    },
    {
      "cell_type": "code",
      "execution_count": null,
      "metadata": {
        "id": "De8iXA3wApyO"
      },
      "outputs": [],
      "source": [
        "def show_hist2(tmp_img, img4eq, img4_array, img4eq_array):\n",
        "    f=plt.figure(figsize=(14, 10))\n",
        "    f.add_subplot(2, 2, 1)\n",
        "    plt.imshow(tmp_img, cmap='gray')\n",
        "    plt.title('original Image', fontsize=20)\n",
        "    f.add_subplot(2, 2, 2)\n",
        "    plt.imshow(img4eq, cmap='gray')\n",
        "    plt.title('equalized Image', fontsize=20)\n",
        "    f.add_subplot(2, 2, 3)\n",
        "    plt.hist(img4_array.flatten(), bins = 256, alpha=0.5)\n",
        "    plt.title('histogram', fontsize=20)\n",
        "    plt.xlabel('gray levels', fontsize = 15)\n",
        "    plt.ylabel('pixel count', fontsize = 15)\n",
        "    f.add_subplot(2, 2, 4)\n",
        "    plt.hist(img4eq_array.flatten(), bins = 256, alpha=0.5)\n",
        "    plt.title('histogram', fontsize=20)\n",
        "    plt.xlabel('gray levels', fontsize = 15)\n",
        "    plt.ylabel('pixel count', fontsize = 15)\n",
        "    plt.show()"
      ]
    },
    {
      "cell_type": "code",
      "execution_count": null,
      "metadata": {
        "id": "EtseO4u8ApyO"
      },
      "outputs": [],
      "source": [
        "result_contrast = img_preprocess(tmp_img)"
      ]
    },
    {
      "cell_type": "code",
      "execution_count": null,
      "metadata": {
        "scrolled": false,
        "id": "7P4LM937ApyP"
      },
      "outputs": [],
      "source": [
        "show_hist2(tmp_img, result_contrast[1], tmp_img, result_contrast[2])"
      ]
    },
    {
      "cell_type": "code",
      "execution_count": null,
      "metadata": {
        "id": "bnFJFKf7ApyP"
      },
      "outputs": [],
      "source": [
        "import PIL, PIL.ImageOps"
      ]
    },
    {
      "cell_type": "code",
      "execution_count": null,
      "metadata": {
        "id": "U5p9JNYkApyQ"
      },
      "outputs": [],
      "source": [
        "img = Image.fromarray(np.uint8(tmp_img))\n",
        "result_img = PIL.ImageOps.autocontrast(img, cutoff=1)"
      ]
    },
    {
      "cell_type": "code",
      "execution_count": null,
      "metadata": {
        "id": "OdB2WxDSApyQ"
      },
      "outputs": [],
      "source": [
        "show_hist(result_img)"
      ]
    },
    {
      "cell_type": "code",
      "execution_count": null,
      "metadata": {
        "id": "KPkV37QBApyQ"
      },
      "outputs": [],
      "source": [
        "denoised_img = cv2.fastNlMeansDenoisingColored(np.array(result_img), None, 5, 5, 5, 5)"
      ]
    },
    {
      "cell_type": "code",
      "execution_count": null,
      "metadata": {
        "id": "lWEp5VePApyQ"
      },
      "outputs": [],
      "source": [
        "show_hist(denoised_img)"
      ]
    },
    {
      "cell_type": "code",
      "execution_count": null,
      "metadata": {
        "id": "BP2v4ltgApyR"
      },
      "outputs": [],
      "source": [
        "img2 = Image.fromarray(np.uint8(denoised_img))\n",
        "Sharpness_image = PIL.ImageEnhance.Sharpness(img2).enhance(1.2)"
      ]
    },
    {
      "cell_type": "code",
      "execution_count": null,
      "metadata": {
        "scrolled": false,
        "id": "FCqbMYJ7ApyR"
      },
      "outputs": [],
      "source": [
        "show_hist(Sharpness_image)"
      ]
    },
    {
      "cell_type": "code",
      "execution_count": null,
      "metadata": {
        "id": "fqMeNRsfApyS"
      },
      "outputs": [],
      "source": [
        "type(Sharpness_image)"
      ]
    },
    {
      "cell_type": "code",
      "execution_count": null,
      "metadata": {
        "id": "8Dsq3Dz2ApyS"
      },
      "outputs": [],
      "source": [
        "def img_preprocess(img):\n",
        "    img = Image.fromarray(np.uint8(img))\n",
        "    result_img = PIL.ImageOps.autocontrast(img, cutoff=1)\n",
        "    denoised_img = cv2.fastNlMeansDenoisingColored(np.array(result_img), None, 5, 5, 5, 5)\n",
        "    img2 = Image.fromarray(np.uint8(denoised_img))\n",
        "    Sharpness_image = PIL.ImageEnhance.Sharpness(img2).enhance(1.2)\n",
        "    return np.array(Sharpness_image)"
      ]
    }
  ],
  "metadata": {
    "accelerator": "GPU",
    "colab": {
      "gpuType": "T4",
      "machine_shape": "hm",
      "private_outputs": true,
      "provenance": []
    },
    "kernelspec": {
      "display_name": "Python 3",
      "language": "python",
      "name": "python3"
    },
    "language_info": {
      "codemirror_mode": {
        "name": "ipython",
        "version": 3
      },
      "file_extension": ".py",
      "mimetype": "text/x-python",
      "name": "python",
      "nbconvert_exporter": "python",
      "pygments_lexer": "ipython3",
      "version": "3.8.5"
    }
  },
  "nbformat": 4,
  "nbformat_minor": 0
}