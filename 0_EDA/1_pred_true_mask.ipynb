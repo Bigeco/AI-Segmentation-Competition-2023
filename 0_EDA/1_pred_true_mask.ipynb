{
  "nbformat": 4,
  "nbformat_minor": 0,
  "metadata": {
    "colab": {
      "private_outputs": true,
      "provenance": [],
      "gpuType": "T4",
      "machine_shape": "hm"
    },
    "kernelspec": {
      "name": "python3",
      "display_name": "Python 3"
    },
    "language_info": {
      "name": "python"
    },
    "accelerator": "GPU"
  },
  "cells": [
    {
      "cell_type": "code",
      "execution_count": null,
      "metadata": {
        "id": "B2KP2UYQZQWQ"
      },
      "outputs": [],
      "source": [
        "from google.colab import drive\n",
        "drive.mount('/content/drive')"
      ]
    },
    {
      "cell_type": "code",
      "source": [
        "import os\n",
        "os.chdir('/content/drive/MyDrive/sw_ai')"
      ],
      "metadata": {
        "id": "2SDoADFDZTuO"
      },
      "execution_count": null,
      "outputs": []
    },
    {
      "cell_type": "code",
      "source": [
        "import os\n",
        "import cv2\n",
        "import pandas as pd\n",
        "import numpy as np\n",
        "\n",
        "import torch\n",
        "import torch.nn as nn\n",
        "from torch.utils.data import Dataset, DataLoader\n",
        "from torchvision import transforms\n",
        "\n",
        "from tqdm import tqdm\n",
        "import albumentations as A\n",
        "from albumentations.pytorch import ToTensorV2\n",
        "\n",
        "# Pytorch에서 gpu를 사용하는 방법.\n",
        "device = torch.device(\"cuda\" if torch.cuda.is_available() else \"cpu\")"
      ],
      "metadata": {
        "id": "-LjVNJocZ2IR"
      },
      "execution_count": null,
      "outputs": []
    },
    {
      "cell_type": "markdown",
      "source": [
        "# Utils"
      ],
      "metadata": {
        "id": "2sNwfZXxZjbu"
      }
    },
    {
      "cell_type": "code",
      "source": [
        "# RLE 디코딩 함수\n",
        "def rle_decode(mask_rle, shape):\n",
        "    s = mask_rle.split()\n",
        "    starts, lengths = [np.asarray(x, dtype=int) for x in (s[0:][::2], s[1:][::2])]\n",
        "    starts -= 1\n",
        "    ends = starts + lengths\n",
        "    img = np.zeros(shape[0] * shape[1], dtype=np.uint8)\n",
        "    for lo, hi in zip(starts, ends):\n",
        "        img[lo:hi] = 1\n",
        "    return img.reshape(shape)\n",
        "\n",
        "\n",
        "# RLE 인코딩 함수\n",
        "def rle_encode(mask):\n",
        "    pixels = mask.flatten()\n",
        "    pixels = np.concatenate([[0], pixels, [0]])\n",
        "    runs = np.where(pixels[1:] != pixels[:-1])[0] + 1\n",
        "    runs[1::2] -= runs[::2]\n",
        "    return \" \".join(str(x) for x in runs)"
      ],
      "metadata": {
        "id": "jZxAUoHkZjJv"
      },
      "execution_count": null,
      "outputs": []
    },
    {
      "cell_type": "markdown",
      "source": [
        "# Custom Dataset"
      ],
      "metadata": {
        "id": "AsScGmliaF8G"
      }
    },
    {
      "cell_type": "code",
      "source": [
        "class SatelliteDataset(Dataset):\n",
        "    def __init__(self, csv_file, transform=None, infer=False):\n",
        "        self.data = pd.read_csv(csv_file)\n",
        "        self.transform = transform\n",
        "        self.infer = infer\n",
        "\n",
        "    def __len__(self):\n",
        "        return len(self.data)\n",
        "\n",
        "    def __getitem__(self, idx):\n",
        "        img_path = self.data.iloc[idx, 1]\n",
        "        image = cv2.imread(img_path)\n",
        "        image = cv2.cvtColor(image, cv2.COLOR_BGR2RGB)\n",
        "\n",
        "        if self.infer:\n",
        "            if self.transform:\n",
        "                image = self.transform(image=image)['image']\n",
        "            return image\n",
        "\n",
        "        mask_rle = self.data.iloc[idx, 2]\n",
        "        mask = rle_decode(mask_rle, (image.shape[0], image.shape[1]))\n",
        "\n",
        "        if self.transform:\n",
        "            augmented = self.transform(image=image, mask=mask)\n",
        "            image = augmented['image']\n",
        "            mask = augmented['mask']\n",
        "\n",
        "        return image, mask"
      ],
      "metadata": {
        "id": "X4Q1208saGRL"
      },
      "execution_count": null,
      "outputs": []
    },
    {
      "cell_type": "code",
      "source": [
        "class SatelliteDatasetForValid(Dataset):\n",
        "    def __init__(self, dataset, transform=None, infer=False):\n",
        "        self.data = dataset\n",
        "        self.transform = transform\n",
        "        self.infer = infer\n",
        "\n",
        "    def __len__(self):\n",
        "        return len(self.data)\n",
        "\n",
        "    def __getitem__(self, idx):\n",
        "        img_path = self.data.iloc[idx, 1]\n",
        "        image = cv2.imread(img_path)\n",
        "        image = cv2.cvtColor(image, cv2.COLOR_BGR2RGB)\n",
        "\n",
        "        if self.infer:\n",
        "            if self.transform:\n",
        "                image = self.transform(image=image)['image']\n",
        "            return image\n",
        "\n",
        "        mask_rle = self.data.iloc[idx, 2]\n",
        "        mask = rle_decode(mask_rle, (image.shape[0], image.shape[1]))\n",
        "\n",
        "        if self.transform:\n",
        "            augmented = self.transform(image=image, mask=mask)\n",
        "            image = augmented['image']\n",
        "            mask = augmented['mask']\n",
        "\n",
        "        return image, mask"
      ],
      "metadata": {
        "id": "qWNuQiT4xQ5u"
      },
      "execution_count": null,
      "outputs": []
    },
    {
      "cell_type": "markdown",
      "source": [
        "# Data Loader"
      ],
      "metadata": {
        "id": "494dbxsJaAD5"
      }
    },
    {
      "cell_type": "code",
      "source": [
        "# # Data Loader\n",
        "transform = A.Compose([A.Resize(224, 224), A.Normalize(), ToTensorV2()])\n",
        "dataset = SatelliteDataset(csv_file=\"./train.csv\", transform=transform)\n",
        "dataloader = DataLoader(dataset, batch_size=16, shuffle=True, num_workers=4)"
      ],
      "metadata": {
        "id": "8UVbCb4bZ0KP"
      },
      "execution_count": null,
      "outputs": []
    },
    {
      "cell_type": "markdown",
      "source": [
        "# EDA"
      ],
      "metadata": {
        "id": "joaZ5MRTbHMA"
      }
    },
    {
      "cell_type": "markdown",
      "source": [
        "## 1) Pixel Count Graph abount each image"
      ],
      "metadata": {
        "id": "p9cLin9ot1ce"
      }
    },
    {
      "cell_type": "code",
      "source": [
        "import matplotlib.pyplot as plt"
      ],
      "metadata": {
        "id": "22vEHOOegYzO"
      },
      "execution_count": null,
      "outputs": []
    },
    {
      "cell_type": "code",
      "source": [
        "img_size = (1024, 1024)\n",
        "decode_data = [rle_decode(dataset.data[\"mask_rle\"][i], img_size) for i in range(len(dataset.data[\"mask_rle\"]))]"
      ],
      "metadata": {
        "id": "jmEqr4Xpbsvu"
      },
      "execution_count": null,
      "outputs": []
    },
    {
      "cell_type": "code",
      "source": [
        "lst_nonzero_count = [np.count_nonzero(decode_data[i]) for i in range(len(dataset.data[\"mask_rle\"]))]\n",
        "lst_zero_count = [decode_data[0].size - count for count in lst_nonzero_count]"
      ],
      "metadata": {
        "id": "DHt2NFfdcYUb"
      },
      "execution_count": null,
      "outputs": []
    },
    {
      "cell_type": "code",
      "source": [
        "decode_data[0].size"
      ],
      "metadata": {
        "id": "bF5X3mubjZnb"
      },
      "execution_count": null,
      "outputs": []
    },
    {
      "cell_type": "code",
      "source": [
        "fig, ax = plt.subplots()\n",
        "\n",
        "sizes, colors = 10, 'red'\n",
        "x, y = lst_nonzero_count, lst_zero_count\n",
        "\n",
        "plt.xlabel('nonzero_count')\n",
        "plt.ylabel('zero_count')\n",
        "\n",
        "plt.xlim([min(lst_nonzero_count)-10000, max(lst_nonzero_count)+10000])\n",
        "plt.ylim([min(lst_zero_count)-10000, max(lst_zero_count)+10000])\n",
        "\n",
        "ax.scatter(x, y, s=sizes, c=colors)\n",
        "\n",
        "plt.show()"
      ],
      "metadata": {
        "id": "1hk3lSyagbF6"
      },
      "execution_count": null,
      "outputs": []
    },
    {
      "cell_type": "markdown",
      "source": [
        "**결과 해석**\n",
        "\n",
        "개수 뿐만 아니라 위치도 요인으로 작용하겠지만,\n",
        "위치를 제외한 개수만으로 판단했을 때, 상대적으로 `nonzero_count(건물 pixel 개수)가 크며 zero_count(배경 pixel 개수)가 적은 데이터` 가 부족함을 알 수 있다."
      ],
      "metadata": {
        "id": "SDTzxSGznkiI"
      }
    },
    {
      "cell_type": "markdown",
      "source": [
        "## 2) Pixel Distribution"
      ],
      "metadata": {
        "id": "FlAx7E5KrcDY"
      }
    },
    {
      "cell_type": "markdown",
      "source": [
        "Training Set의 2가지 Class(0, 1)의 Pixel Distribution을 시각화함."
      ],
      "metadata": {
        "id": "KN967ILfrmHk"
      }
    },
    {
      "cell_type": "code",
      "source": [
        "zero_count = sum(lst_zero_count)\n",
        "nonzero_count = sum(lst_nonzero_count)"
      ],
      "metadata": {
        "id": "tY1s8Q6Kr6cD"
      },
      "execution_count": null,
      "outputs": []
    },
    {
      "cell_type": "code",
      "source": [
        "x = [0, 1]\n",
        "y = [zero_count, nonzero_count]\n",
        "\n",
        "# plot\n",
        "fig, ax = plt.subplots()\n",
        "ax.bar(x, y, width=1, edgecolor=\"white\", linewidth=0.7)\n",
        "\n",
        "plt.xticks(x)\n",
        "plt.xlabel('class')\n",
        "plt.ylabel('count')\n",
        "\n",
        "plt.show()"
      ],
      "metadata": {
        "id": "eR-b8Npgr2Yc"
      },
      "execution_count": null,
      "outputs": []
    },
    {
      "cell_type": "markdown",
      "source": [
        "**결과 해석**\n",
        "\n",
        "Class-Imbalance (클래스 불균형)이 굉장히 심한 데이터셋이다.\n",
        "이 건물이미지 데이터의 경우 배경 pixel 개수가 더 많은 것을 확인할 수 있다.  "
      ],
      "metadata": {
        "id": "3FcWPoE2vR46"
      }
    },
    {
      "cell_type": "markdown",
      "source": [
        "# IoU for test dataset"
      ],
      "metadata": {
        "id": "PaTCrTV5u8sX"
      }
    },
    {
      "cell_type": "markdown",
      "source": [
        "## 1) Model"
      ],
      "metadata": {
        "id": "y-yzZzBelqQd"
      }
    },
    {
      "cell_type": "code",
      "source": [
        "transform = A.Compose(\n",
        "    [\n",
        "        A.Resize(224, 224),\n",
        "        A.Normalize(),\n",
        "        ToTensorV2()\n",
        "    ]\n",
        ")\n",
        "\n",
        "dataset = SatelliteDataset(csv_file='./train.csv', transform=transform)\n",
        "dataloader = DataLoader(dataset, batch_size=4, shuffle=True, num_workers=8)"
      ],
      "metadata": {
        "id": "00HYs6Z9lsVW"
      },
      "execution_count": null,
      "outputs": []
    },
    {
      "cell_type": "code",
      "source": [
        "import torch.nn as nn\n",
        "import torchvision.models"
      ],
      "metadata": {
        "id": "zcYL0fzeluq1"
      },
      "execution_count": null,
      "outputs": []
    },
    {
      "cell_type": "code",
      "source": [
        "import torchvision.models as models\n",
        "\n",
        "def convrelu(in_channels, out_channels, kernel, padding):\n",
        "    return nn.Sequential(\n",
        "        nn.Conv2d(in_channels, out_channels, kernel, padding=padding),\n",
        "        nn.ReLU(inplace=True),\n",
        "    )\n",
        "\n",
        "\n",
        "class ResNetUNet(nn.Module):\n",
        "    def __init__(self, n_class):\n",
        "        super().__init__()\n",
        "\n",
        "        self.base_model = torchvision.models.resnet18(pretrained=True)\n",
        "        self.base_layers = list(self.base_model.children())\n",
        "\n",
        "        self.layer0 = nn.Sequential(*self.base_layers[:3]) # size=(N, 64, x.H/2, x.W/2)\n",
        "        self.layer0_1x1 = convrelu(64, 64, 1, 0)\n",
        "        self.layer1 = nn.Sequential(*self.base_layers[3:5]) # size=(N, 64, x.H/4, x.W/4)\n",
        "        self.layer1_1x1 = convrelu(64, 64, 1, 0)\n",
        "        self.layer2 = self.base_layers[5]  # size=(N, 128, x.H/8, x.W/8)\n",
        "        self.layer2_1x1 = convrelu(128, 128, 1, 0)\n",
        "        self.layer3 = self.base_layers[6]  # size=(N, 256, x.H/16, x.W/16)\n",
        "        self.layer3_1x1 = convrelu(256, 256, 1, 0)\n",
        "        self.layer4 = self.base_layers[7]  # size=(N, 512, x.H/32, x.W/32)\n",
        "        self.layer4_1x1 = convrelu(512, 512, 1, 0)\n",
        "\n",
        "        self.upsample = nn.Upsample(scale_factor=2, mode='bilinear', align_corners=True)\n",
        "\n",
        "        self.conv_up3 = convrelu(256 + 512, 512, 3, 1)\n",
        "        self.conv_up2 = convrelu(128 + 512, 256, 3, 1)\n",
        "        self.conv_up1 = convrelu(64 + 256, 256, 3, 1)\n",
        "        self.conv_up0 = convrelu(64 + 256, 128, 3, 1)\n",
        "\n",
        "        self.conv_original_size0 = convrelu(3, 64, 3, 1)\n",
        "        self.conv_original_size1 = convrelu(64, 64, 3, 1)\n",
        "        self.conv_original_size2 = convrelu(64 + 128, 64, 3, 1)\n",
        "\n",
        "        self.conv_last = nn.Conv2d(64, n_class, 1)\n",
        "\n",
        "    def forward(self, input):\n",
        "        x_original = self.conv_original_size0(input)\n",
        "        x_original = self.conv_original_size1(x_original)\n",
        "\n",
        "        layer0 = self.layer0(input)\n",
        "        layer1 = self.layer1(layer0)\n",
        "        layer2 = self.layer2(layer1)\n",
        "        layer3 = self.layer3(layer2)\n",
        "        layer4 = self.layer4(layer3)\n",
        "\n",
        "        layer4 = self.layer4_1x1(layer4)\n",
        "        x = self.upsample(layer4)\n",
        "        layer3 = self.layer3_1x1(layer3)\n",
        "        x = torch.cat([x, layer3], dim=1)\n",
        "        x = self.conv_up3(x)\n",
        "\n",
        "        x = self.upsample(x)\n",
        "        layer2 = self.layer2_1x1(layer2)\n",
        "        x = torch.cat([x, layer2], dim=1)\n",
        "        x = self.conv_up2(x)\n",
        "\n",
        "        x = self.upsample(x)\n",
        "        layer1 = self.layer1_1x1(layer1)\n",
        "        x = torch.cat([x, layer1], dim=1)\n",
        "        x = self.conv_up1(x)\n",
        "\n",
        "        x = self.upsample(x)\n",
        "        layer0 = self.layer0_1x1(layer0)\n",
        "        x = torch.cat([x, layer0], dim=1)\n",
        "        x = self.conv_up0(x)\n",
        "\n",
        "        x = self.upsample(x)\n",
        "        x = torch.cat([x, x_original], dim=1)\n",
        "        x = self.conv_original_size2(x)\n",
        "\n",
        "        out = self.conv_last(x)\n",
        "\n",
        "        return out"
      ],
      "metadata": {
        "id": "RIvEBC7qlvnL"
      },
      "execution_count": null,
      "outputs": []
    },
    {
      "cell_type": "code",
      "source": [
        "import torch\n",
        "\n",
        "model = torch.load(\"./model(32-runet0.0001).pth\", map_location=device)"
      ],
      "metadata": {
        "id": "PJyqr1_zkCsU"
      },
      "execution_count": null,
      "outputs": []
    },
    {
      "cell_type": "code",
      "source": [
        "from torchsummary import summary\n",
        "\n",
        "summary(model, input_size=(3, 224, 224))"
      ],
      "metadata": {
        "id": "4-Dj6pjcUtMD"
      },
      "execution_count": null,
      "outputs": []
    },
    {
      "cell_type": "markdown",
      "source": [
        "## 2) Model Validation set"
      ],
      "metadata": {
        "id": "m7mNQQwfwNMx"
      }
    },
    {
      "cell_type": "code",
      "source": [
        "from sklearn.model_selection import train_test_split"
      ],
      "metadata": {
        "id": "OSUfuzdfw9Gm"
      },
      "execution_count": null,
      "outputs": []
    },
    {
      "cell_type": "code",
      "source": [
        "data = pd.read_csv(\"./train.csv\")\n",
        "train, valid = train_test_split(data, test_size=0.2, random_state=123)\n",
        "\n",
        "trainset = SatelliteDatasetForValid(dataset = train, transform=transform)\n",
        "validset = SatelliteDatasetForValid(dataset = valid, transform=transform)\n",
        "\n",
        "train_dataloader = DataLoader(trainset, batch_size=16, shuffle=True, num_workers=4)\n",
        "valid_dataloader = DataLoader(validset, batch_size=16, shuffle=False, num_workers=4)"
      ],
      "metadata": {
        "id": "5y8WZOr2w3M9"
      },
      "execution_count": null,
      "outputs": []
    },
    {
      "cell_type": "markdown",
      "source": [
        "## 3) Model eval"
      ],
      "metadata": {
        "id": "v_2M-AYbx6jt"
      }
    },
    {
      "cell_type": "code",
      "source": [
        "with torch.no_grad():\n",
        "    model.eval()\n",
        "    result = []\n",
        "    for images, mask in tqdm(valid_dataloader):\n",
        "        images = images.float().to(device)\n",
        "\n",
        "        outputs = model(images)\n",
        "        masks = torch.sigmoid(outputs).cpu().numpy()\n",
        "        masks = np.squeeze(masks, axis=1)\n",
        "        masks = (masks > 0.35).astype(np.uint8) # Threshold = 0.35\n",
        "\n",
        "        for i in range(len(images)):\n",
        "            mask_rle = rle_encode(masks[i])\n",
        "            if mask_rle == '': # 예측된 건물 픽셀이 아예 없는 경우 -1\n",
        "                result.append(-1)\n",
        "            else:\n",
        "                result.append(mask_rle)"
      ],
      "metadata": {
        "id": "YqVdDA1zyhH6"
      },
      "execution_count": null,
      "outputs": []
    },
    {
      "cell_type": "code",
      "source": [
        "# import time\n",
        "\n",
        "# empty_list = []\n",
        "# for word in tqdm(['apple', 'ball', 'cat', 'doll', 'egg']):\n",
        "#     time.sleep(0.1)\n",
        "#     empty_list.append(word)"
      ],
      "metadata": {
        "id": "_R_pW5wAiSVY"
      },
      "execution_count": null,
      "outputs": []
    },
    {
      "cell_type": "code",
      "source": [
        "# empty_list"
      ],
      "metadata": {
        "id": "GMnb3qNViWkm"
      },
      "execution_count": null,
      "outputs": []
    },
    {
      "cell_type": "markdown",
      "source": [
        "## 4) 성능 평가"
      ],
      "metadata": {
        "id": "C6mtXMcw1hGd"
      }
    },
    {
      "cell_type": "markdown",
      "source": [
        "### true_mask vs pred_mask 이미지 비교"
      ],
      "metadata": {
        "id": "zJdtQIL8WnKq"
      }
    },
    {
      "cell_type": "code",
      "source": [
        "import numpy as np\n",
        "import pandas as pd\n",
        "from typing import List, Union\n",
        "from joblib import Parallel, delayed\n",
        "\n",
        "\n",
        "def rle_decode(mask_rle: Union[str, int], shape=(224, 224)) -> np.array:\n",
        "    '''\n",
        "    mask_rle: run-length as string formatted (start length)\n",
        "    shape: (height,width) of array to return\n",
        "    Returns numpy array, 1 - mask, 0 - background\n",
        "    '''\n",
        "    if mask_rle == -1:\n",
        "        return np.zeros(shape)\n",
        "\n",
        "    s = mask_rle.split()\n",
        "    starts, lengths = [np.asarray(x, dtype=int) for x in (s[0:][::2], s[1:][::2])]\n",
        "    starts -= 1\n",
        "    ends = starts + lengths\n",
        "    img = np.zeros(shape[0]*shape[1], dtype=np.uint8)\n",
        "    for lo, hi in zip(starts, ends):\n",
        "        img[lo:hi] = 1\n",
        "    return img.reshape(shape)"
      ],
      "metadata": {
        "id": "XwIN43JDKSpk"
      },
      "execution_count": null,
      "outputs": []
    },
    {
      "cell_type": "code",
      "source": [
        "lst_input_img_path = list(valid['img_path'])"
      ],
      "metadata": {
        "id": "Ff_QbU2KpbJJ"
      },
      "execution_count": null,
      "outputs": []
    },
    {
      "cell_type": "code",
      "source": [
        "def display(display_list):\n",
        "    plt.figure(figsize=(15, 15))\n",
        "\n",
        "    title = ['Input Image', 'True Mask', 'Predicted Mask']\n",
        "\n",
        "    for i in range(len(display_list)):\n",
        "        plt.subplot(1, len(display_list), i+1)\n",
        "        plt.title(title[i])\n",
        "        if i == 0:\n",
        "            img = cv2.imread(display_list[i])\n",
        "            img = cv2.cvtColor(img, cv2.COLOR_BGR2RGB)\n",
        "            img = img.astype(np.uint8).copy()\n",
        "        if i == 1:\n",
        "            img = display_list[i]\n",
        "        if i == 2:\n",
        "            img = rle_decode(display_list[i])\n",
        "        plt.imshow(img)\n",
        "        plt.axis('off')\n",
        "    plt.show()\n",
        "\n",
        "display_list = [lst_input_img_path[0], (validset.__getitem__(0))[1], result[0]]\n",
        "display(display_list)"
      ],
      "metadata": {
        "id": "82fkKDDQWMlF"
      },
      "execution_count": null,
      "outputs": []
    },
    {
      "cell_type": "markdown",
      "source": [
        "---"
      ],
      "metadata": {
        "id": "BHxhi8arn_8v"
      }
    },
    {
      "cell_type": "markdown",
      "source": [
        "### Dice Score"
      ],
      "metadata": {
        "id": "l4yZ5ZlOWoU5"
      }
    },
    {
      "cell_type": "code",
      "source": [
        "def dice_score(prediction: np.array, ground_truth: np.array, smooth=1e-7) -> float:\n",
        "    '''\n",
        "    Calculate Dice Score between two binary masks.\n",
        "    '''\n",
        "    intersection = np.sum(prediction * ground_truth)\n",
        "    return (2.0 * intersection + smooth) / (np.sum(prediction) + np.sum(ground_truth) + smooth)\n",
        "\n",
        "\n",
        "def calculate_dice_scores(ground_truth_df, prediction_df, img_shape=(224, 224)) -> List[float]:\n",
        "    '''\n",
        "    Calculate Dice scores for a dataset.\n",
        "    '''\n",
        "\n",
        "\n",
        "    # Keep only the rows in the prediction dataframe that have matching img_ids in the ground truth dataframe\n",
        "    prediction_df = prediction_df[prediction_df.iloc[:, 0].isin(ground_truth_df.iloc[:, 0])]\n",
        "    prediction_df.index = range(prediction_df.shape[0])\n",
        "\n",
        "\n",
        "    # Extract the mask_rle columns\n",
        "    pred_mask_rle = prediction_df.iloc[:, 1]\n",
        "    gt_mask_rle = ground_truth_df.iloc[:, 1]\n",
        "\n",
        "\n",
        "    def calculate_dice(pred_rle, gt_rle):\n",
        "        pred_mask = rle_decode(pred_rle, img_shape)\n",
        "        gt_mask = rle_decode(gt_rle, img_shape)\n",
        "\n",
        "\n",
        "        if np.sum(gt_mask) > 0 or np.sum(pred_mask) > 0:\n",
        "            return dice_score(pred_mask, gt_mask)\n",
        "        else:\n",
        "            return None  # No valid masks found, return None\n",
        "\n",
        "\n",
        "    dice_scores = Parallel(n_jobs=-1)(\n",
        "        delayed(calculate_dice)(pred_rle, gt_rle) for pred_rle, gt_rle in zip(pred_mask_rle, gt_mask_rle)\n",
        "    )\n",
        "\n",
        "\n",
        "    dice_scores = [score for score in dice_scores if score is not None]  # Exclude None values\n",
        "\n",
        "\n",
        "    return np.mean(dice_scores)"
      ],
      "metadata": {
        "id": "LsKqKb94tqtW"
      },
      "execution_count": null,
      "outputs": []
    },
    {
      "cell_type": "code",
      "source": [
        "# ground_truth_df = valid.drop('img_path', axis=1)\n",
        "df = valid.drop('img_path', axis=1)"
      ],
      "metadata": {
        "id": "BqV23oDA6dWc"
      },
      "execution_count": null,
      "outputs": []
    },
    {
      "cell_type": "code",
      "source": [
        "# valid_pred = {'img_id': ground_truth_df['img_id'], 'mask_rle': result}\n",
        "valid_pred = {'img_id': df['img_id'], 'mask_rle': result}\n",
        "prediction_df = pd.DataFrame(data = valid_pred)"
      ],
      "metadata": {
        "id": "emWwnB9S9nbo"
      },
      "execution_count": null,
      "outputs": []
    },
    {
      "cell_type": "code",
      "source": [
        "lst_ground_truth_rle = [rle_encode((validset.__getitem__(i))[1]) for i in range(len(valid))]\n",
        "valid_pred = {'img_id': df['img_id'], 'mask_rle': lst_ground_truth_rle}\n",
        "ground_truth_df = pd.DataFrame(data = valid_pred)"
      ],
      "metadata": {
        "id": "TLSqYpHtUilF"
      },
      "execution_count": null,
      "outputs": []
    },
    {
      "cell_type": "code",
      "source": [
        "rle_decode(ground_truth_df['mask_rle'][4458]).shape"
      ],
      "metadata": {
        "id": "0i8bLTC0XTsk"
      },
      "execution_count": null,
      "outputs": []
    },
    {
      "cell_type": "code",
      "source": [
        "calculate_dice_scores(ground_truth_df, prediction_df, img_shape=(224, 224))"
      ],
      "metadata": {
        "id": "8vUfwAUDt7J0"
      },
      "execution_count": null,
      "outputs": []
    },
    {
      "cell_type": "markdown",
      "source": [
        "### Class 별 IOU"
      ],
      "metadata": {
        "id": "PydI60pCMV0F"
      }
    },
    {
      "cell_type": "code",
      "source": [
        "predNoBuildingIdx = list(filter(lambda x: result[x] == -1, range(len(result))))"
      ],
      "metadata": {
        "id": "Tr9o8gw7niol"
      },
      "execution_count": null,
      "outputs": []
    },
    {
      "cell_type": "code",
      "source": [
        "from sklearn.metrics import confusion_matrix\n",
        "\n",
        "def generateConfusionMatrix(ground_truth_mask, pred_mask):\n",
        "    y_true = sum(rle_decode(ground_truth_mask).tolist(), [])\n",
        "    y_pred = sum(rle_decode(pred_mask).tolist(), [])\n",
        "    cMatrix = confusion_matrix(y_true, y_pred)\n",
        "    return cMatrix\n",
        "\n",
        "def generateConfusionMatrixLst(lst_ground_truth_rle, lst_pred_rle):\n",
        "    lst_cMatrix = Parallel(n_jobs=1)(delayed(generateConfusionMatrix)(lst_ground_truth_rle[i], result[i]) for i in range(len(lst_ground_truth_rle)))\n",
        "    return lst_cMatrix"
      ],
      "metadata": {
        "id": "dWNmfBJTaGX_"
      },
      "execution_count": null,
      "outputs": []
    },
    {
      "cell_type": "code",
      "source": [
        "Lst_cMatrix = generateConfusionMatrixLst(lst_ground_truth_rle, result)"
      ],
      "metadata": {
        "id": "3UwanclfbovH"
      },
      "execution_count": null,
      "outputs": []
    },
    {
      "cell_type": "code",
      "source": [
        "Lst_cMatrix[0]"
      ],
      "metadata": {
        "id": "yqQtVfvKeMmJ"
      },
      "execution_count": null,
      "outputs": []
    },
    {
      "cell_type": "code",
      "source": [
        "def IoU(cMatrix):\n",
        "    Intersection = cMatrix.diagonal()\n",
        "    Union11 = cMatrix.sum(axis = 0)[0] + cMatrix[0][1]\n",
        "    Union22 = cMatrix.sum(axis = 0)[1] + cMatrix[1][0]\n",
        "    Union = np.array([Union11, Union22])\n",
        "    return Intersection / Union\n",
        "\n",
        "# 전체 이미지 IoU 수치에 대하여 평균냄.\n",
        "def totalIoU(lst_cMatrix):\n",
        "    totalIoU = np.array([0, 0], dtype = 'float64')\n",
        "    for cMat in lst_cMatrix:\n",
        "        totalIoU += IoU(cMat)\n",
        "    return totalIoU / len(lst_cMatrix)\n",
        "\n",
        "def eachIoU(lst_cMatrix):\n",
        "    eachIoU = []\n",
        "    for cMat in lst_cMatrix:\n",
        "        eachIoU.append(IoU(cMat))\n",
        "    return eachIoU"
      ],
      "metadata": {
        "id": "JbcrKuzDfhPF"
      },
      "execution_count": null,
      "outputs": []
    },
    {
      "cell_type": "code",
      "source": [
        "IoU(Lst_cMatrix[0])"
      ],
      "metadata": {
        "id": "aQajFnHwgZXH"
      },
      "execution_count": null,
      "outputs": []
    },
    {
      "cell_type": "code",
      "source": [
        "totalIoU(Lst_cMatrix)"
      ],
      "metadata": {
        "id": "EegcalN9hhR6"
      },
      "execution_count": null,
      "outputs": []
    },
    {
      "cell_type": "code",
      "source": [
        "totaliou = totalIoU(Lst_cMatrix)"
      ],
      "metadata": {
        "id": "drVZ9YBWimB6"
      },
      "execution_count": null,
      "outputs": []
    },
    {
      "cell_type": "code",
      "source": [
        "def printClassScores(totaliou):\n",
        "    label = ['background', 'building']\n",
        "    print('classes          IoU      nIoU')\n",
        "    print('--------------------------------')\n",
        "    for i, iou in enumerate(totaliou):\n",
        "        labelName = label[i]\n",
        "        iouStr = f'{iou:>5.3f}'\n",
        "        niouStr = 'empty'\n",
        "        print('{:<14}: '.format(labelName) + iouStr + '    ' + niouStr)\n",
        "    print('--------------------------------')\n",
        "    print(f'Score Average : {(np.sum(totaliou) / 2):>5.3f}' + '    ' + niouStr)"
      ],
      "metadata": {
        "id": "F8V3_cT_co5S"
      },
      "execution_count": null,
      "outputs": []
    },
    {
      "cell_type": "code",
      "source": [
        "printClassScores(totaliou)"
      ],
      "metadata": {
        "id": "a8FbFF_djRwC"
      },
      "execution_count": null,
      "outputs": []
    }
  ]
}
